{
 "cells": [
  {
   "cell_type": "code",
   "execution_count": 1,
   "metadata": {},
   "outputs": [],
   "source": [
    "import datetime\n",
    "from time import sleep\n",
    "from selenium import webdriver\n",
    "from selenium.webdriver.common.keys import Keys\n",
    "from selenium.common.exceptions import NoSuchElementException\n",
    "import pandas as pd\n",
    "import time"
   ]
  },
  {
   "cell_type": "code",
   "execution_count": 2,
   "metadata": {},
   "outputs": [
    {
     "name": "stderr",
     "output_type": "stream",
     "text": [
      "<ipython-input-2-03dd0ed9d03c>:1: DeprecationWarning: executable_path has been deprecated, please pass in a Service object\n",
      "  driver = webdriver.Chrome(r'D:\\money-control-comment-extractor\\code\\chromedriver.exe')\n"
     ]
    }
   ],
   "source": [
    "driver = webdriver.Chrome(r'D:\\money-control-comment-extractor\\code\\chromedriver.exe')"
   ]
  },
  {
   "cell_type": "code",
   "execution_count": 3,
   "metadata": {},
   "outputs": [],
   "source": [
    "driver.maximize_window()"
   ]
  },
  {
   "cell_type": "code",
   "execution_count": 4,
   "metadata": {},
   "outputs": [],
   "source": [
    "urls = [\"https://mmb.moneycontrol.com/forum-topics/stocks/icici-bank-6422.html\", ]"
   ]
  },
  {
   "cell_type": "code",
   "execution_count": 5,
   "metadata": {},
   "outputs": [],
   "source": [
    "driver = webdriver.Chrome()\n",
    "for url in urls:\n",
    "    driver.get(url)"
   ]
  },
  {
   "cell_type": "code",
   "execution_count": 25,
   "metadata": {},
   "outputs": [],
   "source": [
    "SCROLL_PAUSE_TIME = 3\n",
    "\n",
    "# Get scroll height\n",
    "last_height = driver.execute_script(\"return document.body.scrollHeight\")\n",
    "\n",
    "while True:\n",
    "    # Scroll down to bottom\n",
    "    driver.execute_script(\"window.scrollTo(0, document.body.scrollHeight);\")\n",
    "\n",
    "    # Wait to load page\n",
    "    time.sleep(SCROLL_PAUSE_TIME)\n",
    "\n",
    "    # Calculate new scroll height and compare with last scroll height\n",
    "    new_height = driver.execute_script(\"return document.body.scrollHeight\")\n",
    "    if new_height == last_height:\n",
    "        break\n",
    "    last_height = new_height"
   ]
  },
  {
   "cell_type": "code",
   "execution_count": 32,
   "metadata": {},
   "outputs": [
    {
     "name": "stderr",
     "output_type": "stream",
     "text": [
      "<ipython-input-32-7e8d3fa026a5>:1: DeprecationWarning: find_elements_by_* commands are deprecated. Please use find_elements() instead\n",
      "  cards = driver.find_elements_by_xpath(\n"
     ]
    }
   ],
   "source": [
    "cards = driver.find_elements_by_xpath(\n",
    "    '//li[@class=\"pstdl\"]')"
   ]
  },
  {
   "cell_type": "code",
   "execution_count": 33,
   "metadata": {},
   "outputs": [
    {
     "data": {
      "text/plain": [
       "170"
      ]
     },
     "execution_count": 33,
     "metadata": {},
     "output_type": "execute_result"
    }
   ],
   "source": [
    "len(cards)"
   ]
  },
  {
   "cell_type": "code",
   "execution_count": 34,
   "metadata": {},
   "outputs": [],
   "source": [
    "def get_comment_data(card):\n",
    "    try:\n",
    "        username = card.find_element_by_xpath(\n",
    "            './/a[@class=\"txtnm14\"]').text\n",
    "    except NoSuchElementException:\n",
    "        username = \"NULL\"\n",
    "    \n",
    "    try:\n",
    "        content = card.find_element_by_xpath(\n",
    "            './/p[@class=\"txt16gry\"]').text\n",
    "    except NoSuchElementException:\n",
    "        content = \"NULL\"\n",
    "    try:\n",
    "        time = card.find_element_by_xpath(\n",
    "            './/div[@class=\"link13gry\"]').text\n",
    "    except NoSuchElementException:\n",
    "        time = \"NULL\"\n",
    "    \n",
    "    comment_data = (username, content, time)\n",
    "    return comment_data"
   ]
  },
  {
   "cell_type": "code",
   "execution_count": 35,
   "metadata": {},
   "outputs": [],
   "source": [
    "data = []"
   ]
  },
  {
   "cell_type": "code",
   "execution_count": 30,
   "metadata": {},
   "outputs": [
    {
     "name": "stderr",
     "output_type": "stream",
     "text": [
      "C:\\Users\\Ayush\\anaconda3\\lib\\site-packages\\selenium\\webdriver\\remote\\webelement.py:393: UserWarning: find_element_by_* commands are deprecated. Please use find_element() instead\n",
      "  warnings.warn(\"find_element_by_* commands are deprecated. Please use find_element() instead\")\n"
     ]
    }
   ],
   "source": [
    "for card in cards:\n",
    "    comment = get_comment_data(card)\n",
    "    data.append(comment)"
   ]
  },
  {
   "cell_type": "code",
   "execution_count": 31,
   "metadata": {},
   "outputs": [],
   "source": [
    "df = pd.DataFrame(data)"
   ]
  },
  {
   "cell_type": "code",
   "execution_count": 36,
   "metadata": {},
   "outputs": [
    {
     "data": {
      "text/html": [
       "<div>\n",
       "<style scoped>\n",
       "    .dataframe tbody tr th:only-of-type {\n",
       "        vertical-align: middle;\n",
       "    }\n",
       "\n",
       "    .dataframe tbody tr th {\n",
       "        vertical-align: top;\n",
       "    }\n",
       "\n",
       "    .dataframe thead th {\n",
       "        text-align: right;\n",
       "    }\n",
       "</style>\n",
       "<table border=\"1\" class=\"dataframe\">\n",
       "  <thead>\n",
       "    <tr style=\"text-align: right;\">\n",
       "      <th></th>\n",
       "      <th>0</th>\n",
       "      <th>1</th>\n",
       "      <th>2</th>\n",
       "    </tr>\n",
       "  </thead>\n",
       "  <tbody>\n",
       "    <tr>\n",
       "      <th>0</th>\n",
       "      <td>SGT0868</td>\n",
       "      <td>ICICI is getting strong fundamental signals it...</td>\n",
       "      <td>about 6 mins 56 sec ago</td>\n",
       "    </tr>\n",
       "    <tr>\n",
       "      <th>1</th>\n",
       "      <td>rita741</td>\n",
       "      <td>Risk tolerance is the level of risk an investo...</td>\n",
       "      <td>about 3 hrs 43 mins ago</td>\n",
       "    </tr>\n",
       "    <tr>\n",
       "      <th>2</th>\n",
       "      <td>rita741</td>\n",
       "      <td>Investors often enhance their profits through ...</td>\n",
       "      <td>about 3 hrs 47 mins ago</td>\n",
       "    </tr>\n",
       "    <tr>\n",
       "      <th>3</th>\n",
       "      <td>pariharakash</td>\n",
       "      <td>can anyone give updated rating for this stock....</td>\n",
       "      <td>about 5 hrs 11 mins ago</td>\n",
       "    </tr>\n",
       "    <tr>\n",
       "      <th>4</th>\n",
       "      <td>KD_Jackpot</td>\n",
       "      <td>Great jackpot Deal %u2026%u2026%u2026..Just sa...</td>\n",
       "      <td>about 6 hrs 10 mins ago</td>\n",
       "    </tr>\n",
       "    <tr>\n",
       "      <th>...</th>\n",
       "      <td>...</td>\n",
       "      <td>...</td>\n",
       "      <td>...</td>\n",
       "    </tr>\n",
       "    <tr>\n",
       "      <th>155</th>\n",
       "      <td>NewTrader_9196</td>\n",
       "      <td>Sell off started...400 points drop more chance...</td>\n",
       "      <td>12.14 PM Dec 1st</td>\n",
       "    </tr>\n",
       "    <tr>\n",
       "      <th>156</th>\n",
       "      <td>A1FUTURE_FNO_63</td>\n",
       "      <td>Dont Sell this stock now It Will reverse for s...</td>\n",
       "      <td>11.59 AM Dec 1st</td>\n",
       "    </tr>\n",
       "    <tr>\n",
       "      <th>157</th>\n",
       "      <td>A1FUTURE_TPS18</td>\n",
       "      <td>Can go up very quickly from these levels, watc...</td>\n",
       "      <td>11.52 AM Dec 1st</td>\n",
       "    </tr>\n",
       "    <tr>\n",
       "      <th>158</th>\n",
       "      <td>NewTrader_9196</td>\n",
       "      <td>Sell sell sell selll. best time to sell selll ...</td>\n",
       "      <td>11.50 AM Dec 1st</td>\n",
       "    </tr>\n",
       "    <tr>\n",
       "      <th>159</th>\n",
       "      <td>Kinganand91</td>\n",
       "      <td>Update:👆 MACD indicated Huge sell off soon.......</td>\n",
       "      <td>11.46 AM Dec 1st</td>\n",
       "    </tr>\n",
       "  </tbody>\n",
       "</table>\n",
       "<p>160 rows × 3 columns</p>\n",
       "</div>"
      ],
      "text/plain": [
       "                   0                                                  1  \\\n",
       "0            SGT0868  ICICI is getting strong fundamental signals it...   \n",
       "1            rita741  Risk tolerance is the level of risk an investo...   \n",
       "2            rita741  Investors often enhance their profits through ...   \n",
       "3       pariharakash  can anyone give updated rating for this stock....   \n",
       "4         KD_Jackpot  Great jackpot Deal %u2026%u2026%u2026..Just sa...   \n",
       "..               ...                                                ...   \n",
       "155   NewTrader_9196  Sell off started...400 points drop more chance...   \n",
       "156  A1FUTURE_FNO_63  Dont Sell this stock now It Will reverse for s...   \n",
       "157   A1FUTURE_TPS18  Can go up very quickly from these levels, watc...   \n",
       "158   NewTrader_9196  Sell sell sell selll. best time to sell selll ...   \n",
       "159      Kinganand91  Update:👆 MACD indicated Huge sell off soon.......   \n",
       "\n",
       "                           2  \n",
       "0    about 6 mins 56 sec ago  \n",
       "1    about 3 hrs 43 mins ago  \n",
       "2    about 3 hrs 47 mins ago  \n",
       "3    about 5 hrs 11 mins ago  \n",
       "4    about 6 hrs 10 mins ago  \n",
       "..                       ...  \n",
       "155         12.14 PM Dec 1st  \n",
       "156         11.59 AM Dec 1st  \n",
       "157         11.52 AM Dec 1st  \n",
       "158         11.50 AM Dec 1st  \n",
       "159         11.46 AM Dec 1st  \n",
       "\n",
       "[160 rows x 3 columns]"
      ]
     },
     "execution_count": 36,
     "metadata": {},
     "output_type": "execute_result"
    }
   ],
   "source": [
    "Cov = pd.read_csv(\"path/to/file.txt\", sep='\\t', header=None)\n",
    "Cov.columns = [\"Sequence\", \"Start\", \"End\", \"Coverage\"]"
   ]
  },
  {
   "cell_type": "code",
   "execution_count": 14,
   "metadata": {},
   "outputs": [
    {
     "name": "stdout",
     "output_type": "stream",
     "text": [
      "mc_table.csv\n"
     ]
    }
   ],
   "source": [
    "df.to_csv(r'D:\\OneDrive\\Desktop\\mc_table.csv', index=False)\n",
    "print('mc_table.csv')"
   ]
  },
  {
   "cell_type": "code",
   "execution_count": null,
   "metadata": {},
   "outputs": [],
   "source": []
  }
 ],
 "metadata": {
  "kernelspec": {
   "display_name": "Python 3",
   "language": "python",
   "name": "python3"
  },
  "language_info": {
   "codemirror_mode": {
    "name": "ipython",
    "version": 3
   },
   "file_extension": ".py",
   "mimetype": "text/x-python",
   "name": "python",
   "nbconvert_exporter": "python",
   "pygments_lexer": "ipython3",
   "version": "3.8.5"
  }
 },
 "nbformat": 4,
 "nbformat_minor": 4
}
