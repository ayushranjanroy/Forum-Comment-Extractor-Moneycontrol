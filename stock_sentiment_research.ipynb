{
  "nbformat": 4,
  "nbformat_minor": 0,
  "metadata": {
    "colab": {
      "name": "stock_sentiment_research.ipynb",
      "provenance": [],
      "collapsed_sections": []
    },
    "kernelspec": {
      "name": "python3",
      "display_name": "Python 3"
    },
    "language_info": {
      "name": "python"
    },
    "accelerator": "GPU"
  },
  "cells": [
    {
      "cell_type": "markdown",
      "source": [
        "Notes  :- much preprocessing is done. Tokenized by converting string into list at last. Deeptimaan - you can try ultimate preprocessing function thing. \n",
        "\n",
        "1) much unknown type of preprocessing is left. not meaningful words. callll --> call etc\n",
        "2) removing duplicate rows\n",
        "3) decision to take with emoji and emoticon\n",
        "4) much much much more data is required"
      ],
      "metadata": {
        "id": "NAKEeeaCZQg5"
      }
    },
    {
      "cell_type": "code",
      "source": [
        "!nvidia-smi"
      ],
      "metadata": {
        "colab": {
          "base_uri": "https://localhost:8080/"
        },
        "id": "AFyCM3AQn1t5",
        "outputId": "f24c4f06-e95a-44df-dd87-919d7841ac5d"
      },
      "execution_count": null,
      "outputs": [
        {
          "output_type": "stream",
          "name": "stdout",
          "text": [
            "Sun Jan 16 05:05:34 2022       \n",
            "+-----------------------------------------------------------------------------+\n",
            "| NVIDIA-SMI 495.46       Driver Version: 460.32.03    CUDA Version: 11.2     |\n",
            "|-------------------------------+----------------------+----------------------+\n",
            "| GPU  Name        Persistence-M| Bus-Id        Disp.A | Volatile Uncorr. ECC |\n",
            "| Fan  Temp  Perf  Pwr:Usage/Cap|         Memory-Usage | GPU-Util  Compute M. |\n",
            "|                               |                      |               MIG M. |\n",
            "|===============================+======================+======================|\n",
            "|   0  Tesla T4            Off  | 00000000:00:04.0 Off |                    0 |\n",
            "| N/A   38C    P8     9W /  70W |      0MiB / 15109MiB |      0%      Default |\n",
            "|                               |                      |                  N/A |\n",
            "+-------------------------------+----------------------+----------------------+\n",
            "                                                                               \n",
            "+-----------------------------------------------------------------------------+\n",
            "| Processes:                                                                  |\n",
            "|  GPU   GI   CI        PID   Type   Process name                  GPU Memory |\n",
            "|        ID   ID                                                   Usage      |\n",
            "|=============================================================================|\n",
            "|  No running processes found                                                 |\n",
            "+-----------------------------------------------------------------------------+\n"
          ]
        }
      ]
    },
    {
      "cell_type": "code",
      "source": [
        "import nltk                         # NLP toolbox\n",
        "from os import getcwd\n",
        "import pandas as pd                 # Library for Dataframes \n",
        "from nltk.corpus import twitter_samples \n",
        "import matplotlib.pyplot as plt     # Library for visualization\n",
        "import numpy as np                  # Library for math functions\n",
        "import string\n",
        "import re"
      ],
      "metadata": {
        "id": "rK8_ppiYntqc"
      },
      "execution_count": null,
      "outputs": []
    },
    {
      "cell_type": "code",
      "source": [
        "url = \"https://github.com/ayushranjanroy/Dataset_/raw/main/mc_table.csv\"\n",
        "from urllib.request import urlretrieve\n",
        "urlretrieve(url, 'table.csv')\n",
        "dataset = pd.read_csv('table.csv')\n"
      ],
      "metadata": {
        "id": "REJnxj-0sDD7"
      },
      "execution_count": null,
      "outputs": []
    },
    {
      "cell_type": "code",
      "metadata": {
        "id": "mg_LYU9B5HJR",
        "colab": {
          "base_uri": "https://localhost:8080/"
        },
        "outputId": "ee154a30-cc1a-45db-ce7d-5ea08191bcbf"
      },
      "source": [
        "len(dataset)"
      ],
      "execution_count": null,
      "outputs": [
        {
          "output_type": "execute_result",
          "data": {
            "text/plain": [
              "40"
            ]
          },
          "metadata": {},
          "execution_count": 11
        }
      ]
    },
    {
      "cell_type": "code",
      "source": [
        "data = dataset.rename(columns={'0': 'username', '1': 'comments'})\n"
      ],
      "metadata": {
        "id": "A4nPx_MNoMsw"
      },
      "execution_count": null,
      "outputs": []
    },
    {
      "cell_type": "code",
      "source": [
        "data = data[['comments']]"
      ],
      "metadata": {
        "id": "IlFppg6BoMvv"
      },
      "execution_count": null,
      "outputs": []
    },
    {
      "cell_type": "code",
      "source": [
        "data.head(30)"
      ],
      "metadata": {
        "id": "yV62AW51oMy2",
        "colab": {
          "base_uri": "https://localhost:8080/",
          "height": 989
        },
        "outputId": "e371e77d-0a2d-4fe2-c7f8-bc66bde5535e"
      },
      "execution_count": null,
      "outputs": [
        {
          "output_type": "execute_result",
          "data": {
            "text/html": [
              "\n",
              "  <div id=\"df-53008f82-b285-4156-85c8-f87c850c4677\">\n",
              "    <div class=\"colab-df-container\">\n",
              "      <div>\n",
              "<style scoped>\n",
              "    .dataframe tbody tr th:only-of-type {\n",
              "        vertical-align: middle;\n",
              "    }\n",
              "\n",
              "    .dataframe tbody tr th {\n",
              "        vertical-align: top;\n",
              "    }\n",
              "\n",
              "    .dataframe thead th {\n",
              "        text-align: right;\n",
              "    }\n",
              "</style>\n",
              "<table border=\"1\" class=\"dataframe\">\n",
              "  <thead>\n",
              "    <tr style=\"text-align: right;\">\n",
              "      <th></th>\n",
              "      <th>comments</th>\n",
              "    </tr>\n",
              "  </thead>\n",
              "  <tbody>\n",
              "    <tr>\n",
              "      <th>0</th>\n",
              "      <td>ICICI is getting strong fundamental signals it...</td>\n",
              "    </tr>\n",
              "    <tr>\n",
              "      <th>1</th>\n",
              "      <td>Risk tolerance is the level of risk an investo...</td>\n",
              "    </tr>\n",
              "    <tr>\n",
              "      <th>2</th>\n",
              "      <td>Investors often enhance their profits through ...</td>\n",
              "    </tr>\n",
              "    <tr>\n",
              "      <th>3</th>\n",
              "      <td>can anyone give updated rating for this stock....</td>\n",
              "    </tr>\n",
              "    <tr>\n",
              "      <th>4</th>\n",
              "      <td>Great jackpot Deal %u2026%u2026%u2026..Just sa...</td>\n",
              "    </tr>\n",
              "    <tr>\n",
              "      <th>5</th>\n",
              "      <td>ICICI bank will be bullish if it breaks the re...</td>\n",
              "    </tr>\n",
              "    <tr>\n",
              "      <th>6</th>\n",
              "      <td>Telle grm Profit_Junction : M&amp;M formed bearish...</td>\n",
              "    </tr>\n",
              "    <tr>\n",
              "      <th>7</th>\n",
              "      <td>ICICI bank will be bullish if it breaks the re...</td>\n",
              "    </tr>\n",
              "    <tr>\n",
              "      <th>8</th>\n",
              "      <td>ICICI is getting strong fundamental signals it...</td>\n",
              "    </tr>\n",
              "    <tr>\n",
              "      <th>9</th>\n",
              "      <td>SMALL black crow be alert DOUBLE TOP PATTERN D...</td>\n",
              "    </tr>\n",
              "    <tr>\n",
              "      <th>10</th>\n",
              "      <td>ICICI bank will be bullish if it breaks the re...</td>\n",
              "    </tr>\n",
              "    <tr>\n",
              "      <th>11</th>\n",
              "      <td>ICICI is getting strong fundamental signals it...</td>\n",
              "    </tr>\n",
              "    <tr>\n",
              "      <th>12</th>\n",
              "      <td>ICICI bank will be bullish if it breaks the re...</td>\n",
              "    </tr>\n",
              "    <tr>\n",
              "      <th>13</th>\n",
              "      <td>ICICI is getting strong fundamental signals it...</td>\n",
              "    </tr>\n",
              "    <tr>\n",
              "      <th>14</th>\n",
              "      <td>ICICI bank will be bullish if it breaks the re...</td>\n",
              "    </tr>\n",
              "    <tr>\n",
              "      <th>15</th>\n",
              "      <td>ICICI bank will be bullish if it breaks the re...</td>\n",
              "    </tr>\n",
              "    <tr>\n",
              "      <th>16</th>\n",
              "      <td>Zeel cmp 350 and tomorrow morning will come 36...</td>\n",
              "    </tr>\n",
              "    <tr>\n",
              "      <th>17</th>\n",
              "      <td>ICICI bank will be bullish if it breaks the re...</td>\n",
              "    </tr>\n",
              "    <tr>\n",
              "      <th>18</th>\n",
              "      <td>this stock can go up very quickly from these l...</td>\n",
              "    </tr>\n",
              "    <tr>\n",
              "      <th>19</th>\n",
              "      <td>buy Icici bank near 820 with morning tgt will ...</td>\n",
              "    </tr>\n",
              "    <tr>\n",
              "      <th>20</th>\n",
              "      <td>Strong levels, Good Result, Consolidated in la...</td>\n",
              "    </tr>\n",
              "    <tr>\n",
              "      <th>21</th>\n",
              "      <td>ICICI bank will be bullish if it breaks the re...</td>\n",
              "    </tr>\n",
              "    <tr>\n",
              "      <th>22</th>\n",
              "      <td>Telle grm Profit_Junction : UPL is near to its...</td>\n",
              "    </tr>\n",
              "    <tr>\n",
              "      <th>23</th>\n",
              "      <td>2400Telle grm Profit_Junction : ZEEL is near t...</td>\n",
              "    </tr>\n",
              "    <tr>\n",
              "      <th>24</th>\n",
              "      <td>Long term investor book profit in ICICI Bank. ...</td>\n",
              "    </tr>\n",
              "    <tr>\n",
              "      <th>25</th>\n",
              "      <td>ICICI Bank going to touch 840 and then 860 bec...</td>\n",
              "    </tr>\n",
              "    <tr>\n",
              "      <th>26</th>\n",
              "      <td>Whatever the result FII and mutual funds will ...</td>\n",
              "    </tr>\n",
              "    <tr>\n",
              "      <th>27</th>\n",
              "      <td>Motherson Sumi LOWER CIRCUIT. Cautious in mark...</td>\n",
              "    </tr>\n",
              "    <tr>\n",
              "      <th>28</th>\n",
              "      <td>Sell ICICI Bank with target of 810 &amp; Stop loss...</td>\n",
              "    </tr>\n",
              "    <tr>\n",
              "      <th>29</th>\n",
              "      <td>How to overcome our fear of losses incurred by...</td>\n",
              "    </tr>\n",
              "  </tbody>\n",
              "</table>\n",
              "</div>\n",
              "      <button class=\"colab-df-convert\" onclick=\"convertToInteractive('df-53008f82-b285-4156-85c8-f87c850c4677')\"\n",
              "              title=\"Convert this dataframe to an interactive table.\"\n",
              "              style=\"display:none;\">\n",
              "        \n",
              "  <svg xmlns=\"http://www.w3.org/2000/svg\" height=\"24px\"viewBox=\"0 0 24 24\"\n",
              "       width=\"24px\">\n",
              "    <path d=\"M0 0h24v24H0V0z\" fill=\"none\"/>\n",
              "    <path d=\"M18.56 5.44l.94 2.06.94-2.06 2.06-.94-2.06-.94-.94-2.06-.94 2.06-2.06.94zm-11 1L8.5 8.5l.94-2.06 2.06-.94-2.06-.94L8.5 2.5l-.94 2.06-2.06.94zm10 10l.94 2.06.94-2.06 2.06-.94-2.06-.94-.94-2.06-.94 2.06-2.06.94z\"/><path d=\"M17.41 7.96l-1.37-1.37c-.4-.4-.92-.59-1.43-.59-.52 0-1.04.2-1.43.59L10.3 9.45l-7.72 7.72c-.78.78-.78 2.05 0 2.83L4 21.41c.39.39.9.59 1.41.59.51 0 1.02-.2 1.41-.59l7.78-7.78 2.81-2.81c.8-.78.8-2.07 0-2.86zM5.41 20L4 18.59l7.72-7.72 1.47 1.35L5.41 20z\"/>\n",
              "  </svg>\n",
              "      </button>\n",
              "      \n",
              "  <style>\n",
              "    .colab-df-container {\n",
              "      display:flex;\n",
              "      flex-wrap:wrap;\n",
              "      gap: 12px;\n",
              "    }\n",
              "\n",
              "    .colab-df-convert {\n",
              "      background-color: #E8F0FE;\n",
              "      border: none;\n",
              "      border-radius: 50%;\n",
              "      cursor: pointer;\n",
              "      display: none;\n",
              "      fill: #1967D2;\n",
              "      height: 32px;\n",
              "      padding: 0 0 0 0;\n",
              "      width: 32px;\n",
              "    }\n",
              "\n",
              "    .colab-df-convert:hover {\n",
              "      background-color: #E2EBFA;\n",
              "      box-shadow: 0px 1px 2px rgba(60, 64, 67, 0.3), 0px 1px 3px 1px rgba(60, 64, 67, 0.15);\n",
              "      fill: #174EA6;\n",
              "    }\n",
              "\n",
              "    [theme=dark] .colab-df-convert {\n",
              "      background-color: #3B4455;\n",
              "      fill: #D2E3FC;\n",
              "    }\n",
              "\n",
              "    [theme=dark] .colab-df-convert:hover {\n",
              "      background-color: #434B5C;\n",
              "      box-shadow: 0px 1px 3px 1px rgba(0, 0, 0, 0.15);\n",
              "      filter: drop-shadow(0px 1px 2px rgba(0, 0, 0, 0.3));\n",
              "      fill: #FFFFFF;\n",
              "    }\n",
              "  </style>\n",
              "\n",
              "      <script>\n",
              "        const buttonEl =\n",
              "          document.querySelector('#df-53008f82-b285-4156-85c8-f87c850c4677 button.colab-df-convert');\n",
              "        buttonEl.style.display =\n",
              "          google.colab.kernel.accessAllowed ? 'block' : 'none';\n",
              "\n",
              "        async function convertToInteractive(key) {\n",
              "          const element = document.querySelector('#df-53008f82-b285-4156-85c8-f87c850c4677');\n",
              "          const dataTable =\n",
              "            await google.colab.kernel.invokeFunction('convertToInteractive',\n",
              "                                                     [key], {});\n",
              "          if (!dataTable) return;\n",
              "\n",
              "          const docLinkHtml = 'Like what you see? Visit the ' +\n",
              "            '<a target=\"_blank\" href=https://colab.research.google.com/notebooks/data_table.ipynb>data table notebook</a>'\n",
              "            + ' to learn more about interactive tables.';\n",
              "          element.innerHTML = '';\n",
              "          dataTable['output_type'] = 'display_data';\n",
              "          await google.colab.output.renderOutput(dataTable, element);\n",
              "          const docLink = document.createElement('div');\n",
              "          docLink.innerHTML = docLinkHtml;\n",
              "          element.appendChild(docLink);\n",
              "        }\n",
              "      </script>\n",
              "    </div>\n",
              "  </div>\n",
              "  "
            ],
            "text/plain": [
              "                                             comments\n",
              "0   ICICI is getting strong fundamental signals it...\n",
              "1   Risk tolerance is the level of risk an investo...\n",
              "2   Investors often enhance their profits through ...\n",
              "3   can anyone give updated rating for this stock....\n",
              "4   Great jackpot Deal %u2026%u2026%u2026..Just sa...\n",
              "5   ICICI bank will be bullish if it breaks the re...\n",
              "6   Telle grm Profit_Junction : M&M formed bearish...\n",
              "7   ICICI bank will be bullish if it breaks the re...\n",
              "8   ICICI is getting strong fundamental signals it...\n",
              "9   SMALL black crow be alert DOUBLE TOP PATTERN D...\n",
              "10  ICICI bank will be bullish if it breaks the re...\n",
              "11  ICICI is getting strong fundamental signals it...\n",
              "12  ICICI bank will be bullish if it breaks the re...\n",
              "13  ICICI is getting strong fundamental signals it...\n",
              "14  ICICI bank will be bullish if it breaks the re...\n",
              "15  ICICI bank will be bullish if it breaks the re...\n",
              "16  Zeel cmp 350 and tomorrow morning will come 36...\n",
              "17  ICICI bank will be bullish if it breaks the re...\n",
              "18  this stock can go up very quickly from these l...\n",
              "19  buy Icici bank near 820 with morning tgt will ...\n",
              "20  Strong levels, Good Result, Consolidated in la...\n",
              "21  ICICI bank will be bullish if it breaks the re...\n",
              "22  Telle grm Profit_Junction : UPL is near to its...\n",
              "23  2400Telle grm Profit_Junction : ZEEL is near t...\n",
              "24  Long term investor book profit in ICICI Bank. ...\n",
              "25  ICICI Bank going to touch 840 and then 860 bec...\n",
              "26  Whatever the result FII and mutual funds will ...\n",
              "27  Motherson Sumi LOWER CIRCUIT. Cautious in mark...\n",
              "28  Sell ICICI Bank with target of 810 & Stop loss...\n",
              "29  How to overcome our fear of losses incurred by..."
            ]
          },
          "metadata": {},
          "execution_count": 14
        }
      ]
    },
    {
      "cell_type": "code",
      "source": [
        "# l = data[\"comments\"].tolist()\n",
        "data[\"comments\"] = data[\"comments\"].astype(str)\n",
        "type(data)"
      ],
      "metadata": {
        "colab": {
          "base_uri": "https://localhost:8080/"
        },
        "id": "D0eRgOKH3f_n",
        "outputId": "399a1a00-bbcf-44b4-e8db-3707460351bd"
      },
      "execution_count": null,
      "outputs": [
        {
          "output_type": "execute_result",
          "data": {
            "text/plain": [
              "pandas.core.frame.DataFrame"
            ]
          },
          "metadata": {},
          "execution_count": 15
        }
      ]
    },
    {
      "cell_type": "code",
      "source": [
        "data[\"comments\"] = data[\"comments\"].str.lower()\n",
        "data.head()"
      ],
      "metadata": {
        "colab": {
          "base_uri": "https://localhost:8080/",
          "height": 206
        },
        "id": "gG7Fw6hYv9yM",
        "outputId": "54f90e33-c2d7-424d-f3c1-f2f28302372e"
      },
      "execution_count": null,
      "outputs": [
        {
          "output_type": "execute_result",
          "data": {
            "text/html": [
              "\n",
              "  <div id=\"df-a63a99f4-13ea-4a5b-a1dd-3379cd8b7320\">\n",
              "    <div class=\"colab-df-container\">\n",
              "      <div>\n",
              "<style scoped>\n",
              "    .dataframe tbody tr th:only-of-type {\n",
              "        vertical-align: middle;\n",
              "    }\n",
              "\n",
              "    .dataframe tbody tr th {\n",
              "        vertical-align: top;\n",
              "    }\n",
              "\n",
              "    .dataframe thead th {\n",
              "        text-align: right;\n",
              "    }\n",
              "</style>\n",
              "<table border=\"1\" class=\"dataframe\">\n",
              "  <thead>\n",
              "    <tr style=\"text-align: right;\">\n",
              "      <th></th>\n",
              "      <th>comments</th>\n",
              "    </tr>\n",
              "  </thead>\n",
              "  <tbody>\n",
              "    <tr>\n",
              "      <th>0</th>\n",
              "      <td>icici is getting strong fundamental signals it...</td>\n",
              "    </tr>\n",
              "    <tr>\n",
              "      <th>1</th>\n",
              "      <td>risk tolerance is the level of risk an investo...</td>\n",
              "    </tr>\n",
              "    <tr>\n",
              "      <th>2</th>\n",
              "      <td>investors often enhance their profits through ...</td>\n",
              "    </tr>\n",
              "    <tr>\n",
              "      <th>3</th>\n",
              "      <td>can anyone give updated rating for this stock....</td>\n",
              "    </tr>\n",
              "    <tr>\n",
              "      <th>4</th>\n",
              "      <td>great jackpot deal %u2026%u2026%u2026..just sa...</td>\n",
              "    </tr>\n",
              "  </tbody>\n",
              "</table>\n",
              "</div>\n",
              "      <button class=\"colab-df-convert\" onclick=\"convertToInteractive('df-a63a99f4-13ea-4a5b-a1dd-3379cd8b7320')\"\n",
              "              title=\"Convert this dataframe to an interactive table.\"\n",
              "              style=\"display:none;\">\n",
              "        \n",
              "  <svg xmlns=\"http://www.w3.org/2000/svg\" height=\"24px\"viewBox=\"0 0 24 24\"\n",
              "       width=\"24px\">\n",
              "    <path d=\"M0 0h24v24H0V0z\" fill=\"none\"/>\n",
              "    <path d=\"M18.56 5.44l.94 2.06.94-2.06 2.06-.94-2.06-.94-.94-2.06-.94 2.06-2.06.94zm-11 1L8.5 8.5l.94-2.06 2.06-.94-2.06-.94L8.5 2.5l-.94 2.06-2.06.94zm10 10l.94 2.06.94-2.06 2.06-.94-2.06-.94-.94-2.06-.94 2.06-2.06.94z\"/><path d=\"M17.41 7.96l-1.37-1.37c-.4-.4-.92-.59-1.43-.59-.52 0-1.04.2-1.43.59L10.3 9.45l-7.72 7.72c-.78.78-.78 2.05 0 2.83L4 21.41c.39.39.9.59 1.41.59.51 0 1.02-.2 1.41-.59l7.78-7.78 2.81-2.81c.8-.78.8-2.07 0-2.86zM5.41 20L4 18.59l7.72-7.72 1.47 1.35L5.41 20z\"/>\n",
              "  </svg>\n",
              "      </button>\n",
              "      \n",
              "  <style>\n",
              "    .colab-df-container {\n",
              "      display:flex;\n",
              "      flex-wrap:wrap;\n",
              "      gap: 12px;\n",
              "    }\n",
              "\n",
              "    .colab-df-convert {\n",
              "      background-color: #E8F0FE;\n",
              "      border: none;\n",
              "      border-radius: 50%;\n",
              "      cursor: pointer;\n",
              "      display: none;\n",
              "      fill: #1967D2;\n",
              "      height: 32px;\n",
              "      padding: 0 0 0 0;\n",
              "      width: 32px;\n",
              "    }\n",
              "\n",
              "    .colab-df-convert:hover {\n",
              "      background-color: #E2EBFA;\n",
              "      box-shadow: 0px 1px 2px rgba(60, 64, 67, 0.3), 0px 1px 3px 1px rgba(60, 64, 67, 0.15);\n",
              "      fill: #174EA6;\n",
              "    }\n",
              "\n",
              "    [theme=dark] .colab-df-convert {\n",
              "      background-color: #3B4455;\n",
              "      fill: #D2E3FC;\n",
              "    }\n",
              "\n",
              "    [theme=dark] .colab-df-convert:hover {\n",
              "      background-color: #434B5C;\n",
              "      box-shadow: 0px 1px 3px 1px rgba(0, 0, 0, 0.15);\n",
              "      filter: drop-shadow(0px 1px 2px rgba(0, 0, 0, 0.3));\n",
              "      fill: #FFFFFF;\n",
              "    }\n",
              "  </style>\n",
              "\n",
              "      <script>\n",
              "        const buttonEl =\n",
              "          document.querySelector('#df-a63a99f4-13ea-4a5b-a1dd-3379cd8b7320 button.colab-df-convert');\n",
              "        buttonEl.style.display =\n",
              "          google.colab.kernel.accessAllowed ? 'block' : 'none';\n",
              "\n",
              "        async function convertToInteractive(key) {\n",
              "          const element = document.querySelector('#df-a63a99f4-13ea-4a5b-a1dd-3379cd8b7320');\n",
              "          const dataTable =\n",
              "            await google.colab.kernel.invokeFunction('convertToInteractive',\n",
              "                                                     [key], {});\n",
              "          if (!dataTable) return;\n",
              "\n",
              "          const docLinkHtml = 'Like what you see? Visit the ' +\n",
              "            '<a target=\"_blank\" href=https://colab.research.google.com/notebooks/data_table.ipynb>data table notebook</a>'\n",
              "            + ' to learn more about interactive tables.';\n",
              "          element.innerHTML = '';\n",
              "          dataTable['output_type'] = 'display_data';\n",
              "          await google.colab.output.renderOutput(dataTable, element);\n",
              "          const docLink = document.createElement('div');\n",
              "          docLink.innerHTML = docLinkHtml;\n",
              "          element.appendChild(docLink);\n",
              "        }\n",
              "      </script>\n",
              "    </div>\n",
              "  </div>\n",
              "  "
            ],
            "text/plain": [
              "                                            comments\n",
              "0  icici is getting strong fundamental signals it...\n",
              "1  risk tolerance is the level of risk an investo...\n",
              "2  investors often enhance their profits through ...\n",
              "3  can anyone give updated rating for this stock....\n",
              "4  great jackpot deal %u2026%u2026%u2026..just sa..."
            ]
          },
          "metadata": {},
          "execution_count": 16
        }
      ]
    },
    {
      "cell_type": "code",
      "source": [
        "PUNCT_TO_REMOVE = string.punctuation\n",
        "def remove_punctuation(comments):\n",
        "    \"\"\"custom function to remove the punctuation\"\"\"\n",
        "    return comments.translate(str.maketrans('', '', PUNCT_TO_REMOVE))\n",
        "\n",
        "data[\"comments\"] = data[\"comments\"].apply(lambda comments: remove_punctuation(comments))\n",
        "data.head()"
      ],
      "metadata": {
        "colab": {
          "base_uri": "https://localhost:8080/",
          "height": 206
        },
        "id": "t31-mxJZFuUD",
        "outputId": "08b3e1c3-34d4-47ca-a261-9815f3b2c70c"
      },
      "execution_count": null,
      "outputs": [
        {
          "output_type": "execute_result",
          "data": {
            "text/html": [
              "\n",
              "  <div id=\"df-315a9991-03e8-4628-b399-20ae80a55b73\">\n",
              "    <div class=\"colab-df-container\">\n",
              "      <div>\n",
              "<style scoped>\n",
              "    .dataframe tbody tr th:only-of-type {\n",
              "        vertical-align: middle;\n",
              "    }\n",
              "\n",
              "    .dataframe tbody tr th {\n",
              "        vertical-align: top;\n",
              "    }\n",
              "\n",
              "    .dataframe thead th {\n",
              "        text-align: right;\n",
              "    }\n",
              "</style>\n",
              "<table border=\"1\" class=\"dataframe\">\n",
              "  <thead>\n",
              "    <tr style=\"text-align: right;\">\n",
              "      <th></th>\n",
              "      <th>comments</th>\n",
              "    </tr>\n",
              "  </thead>\n",
              "  <tbody>\n",
              "    <tr>\n",
              "      <th>0</th>\n",
              "      <td>icici is getting strong fundamental signals it...</td>\n",
              "    </tr>\n",
              "    <tr>\n",
              "      <th>1</th>\n",
              "      <td>risk tolerance is the level of risk an investo...</td>\n",
              "    </tr>\n",
              "    <tr>\n",
              "      <th>2</th>\n",
              "      <td>investors often enhance their profits through ...</td>\n",
              "    </tr>\n",
              "    <tr>\n",
              "      <th>3</th>\n",
              "      <td>can anyone give updated rating for this stock ...</td>\n",
              "    </tr>\n",
              "    <tr>\n",
              "      <th>4</th>\n",
              "      <td>great jackpot deal u2026u2026u2026just say hi ...</td>\n",
              "    </tr>\n",
              "  </tbody>\n",
              "</table>\n",
              "</div>\n",
              "      <button class=\"colab-df-convert\" onclick=\"convertToInteractive('df-315a9991-03e8-4628-b399-20ae80a55b73')\"\n",
              "              title=\"Convert this dataframe to an interactive table.\"\n",
              "              style=\"display:none;\">\n",
              "        \n",
              "  <svg xmlns=\"http://www.w3.org/2000/svg\" height=\"24px\"viewBox=\"0 0 24 24\"\n",
              "       width=\"24px\">\n",
              "    <path d=\"M0 0h24v24H0V0z\" fill=\"none\"/>\n",
              "    <path d=\"M18.56 5.44l.94 2.06.94-2.06 2.06-.94-2.06-.94-.94-2.06-.94 2.06-2.06.94zm-11 1L8.5 8.5l.94-2.06 2.06-.94-2.06-.94L8.5 2.5l-.94 2.06-2.06.94zm10 10l.94 2.06.94-2.06 2.06-.94-2.06-.94-.94-2.06-.94 2.06-2.06.94z\"/><path d=\"M17.41 7.96l-1.37-1.37c-.4-.4-.92-.59-1.43-.59-.52 0-1.04.2-1.43.59L10.3 9.45l-7.72 7.72c-.78.78-.78 2.05 0 2.83L4 21.41c.39.39.9.59 1.41.59.51 0 1.02-.2 1.41-.59l7.78-7.78 2.81-2.81c.8-.78.8-2.07 0-2.86zM5.41 20L4 18.59l7.72-7.72 1.47 1.35L5.41 20z\"/>\n",
              "  </svg>\n",
              "      </button>\n",
              "      \n",
              "  <style>\n",
              "    .colab-df-container {\n",
              "      display:flex;\n",
              "      flex-wrap:wrap;\n",
              "      gap: 12px;\n",
              "    }\n",
              "\n",
              "    .colab-df-convert {\n",
              "      background-color: #E8F0FE;\n",
              "      border: none;\n",
              "      border-radius: 50%;\n",
              "      cursor: pointer;\n",
              "      display: none;\n",
              "      fill: #1967D2;\n",
              "      height: 32px;\n",
              "      padding: 0 0 0 0;\n",
              "      width: 32px;\n",
              "    }\n",
              "\n",
              "    .colab-df-convert:hover {\n",
              "      background-color: #E2EBFA;\n",
              "      box-shadow: 0px 1px 2px rgba(60, 64, 67, 0.3), 0px 1px 3px 1px rgba(60, 64, 67, 0.15);\n",
              "      fill: #174EA6;\n",
              "    }\n",
              "\n",
              "    [theme=dark] .colab-df-convert {\n",
              "      background-color: #3B4455;\n",
              "      fill: #D2E3FC;\n",
              "    }\n",
              "\n",
              "    [theme=dark] .colab-df-convert:hover {\n",
              "      background-color: #434B5C;\n",
              "      box-shadow: 0px 1px 3px 1px rgba(0, 0, 0, 0.15);\n",
              "      filter: drop-shadow(0px 1px 2px rgba(0, 0, 0, 0.3));\n",
              "      fill: #FFFFFF;\n",
              "    }\n",
              "  </style>\n",
              "\n",
              "      <script>\n",
              "        const buttonEl =\n",
              "          document.querySelector('#df-315a9991-03e8-4628-b399-20ae80a55b73 button.colab-df-convert');\n",
              "        buttonEl.style.display =\n",
              "          google.colab.kernel.accessAllowed ? 'block' : 'none';\n",
              "\n",
              "        async function convertToInteractive(key) {\n",
              "          const element = document.querySelector('#df-315a9991-03e8-4628-b399-20ae80a55b73');\n",
              "          const dataTable =\n",
              "            await google.colab.kernel.invokeFunction('convertToInteractive',\n",
              "                                                     [key], {});\n",
              "          if (!dataTable) return;\n",
              "\n",
              "          const docLinkHtml = 'Like what you see? Visit the ' +\n",
              "            '<a target=\"_blank\" href=https://colab.research.google.com/notebooks/data_table.ipynb>data table notebook</a>'\n",
              "            + ' to learn more about interactive tables.';\n",
              "          element.innerHTML = '';\n",
              "          dataTable['output_type'] = 'display_data';\n",
              "          await google.colab.output.renderOutput(dataTable, element);\n",
              "          const docLink = document.createElement('div');\n",
              "          docLink.innerHTML = docLinkHtml;\n",
              "          element.appendChild(docLink);\n",
              "        }\n",
              "      </script>\n",
              "    </div>\n",
              "  </div>\n",
              "  "
            ],
            "text/plain": [
              "                                            comments\n",
              "0  icici is getting strong fundamental signals it...\n",
              "1  risk tolerance is the level of risk an investo...\n",
              "2  investors often enhance their profits through ...\n",
              "3  can anyone give updated rating for this stock ...\n",
              "4  great jackpot deal u2026u2026u2026just say hi ..."
            ]
          },
          "metadata": {},
          "execution_count": 20
        }
      ]
    },
    {
      "cell_type": "code",
      "source": [
        "nltk.download('stopwords')\n",
        "from nltk.corpus import stopwords\n",
        "\", \".join(stopwords.words('english'))"
      ],
      "metadata": {
        "colab": {
          "base_uri": "https://localhost:8080/",
          "height": 164
        },
        "id": "KwvsK1qqHCxf",
        "outputId": "a3dbf095-e305-4cf1-dbff-f1fa431d4fa8"
      },
      "execution_count": null,
      "outputs": [
        {
          "output_type": "stream",
          "name": "stdout",
          "text": [
            "[nltk_data] Downloading package stopwords to /root/nltk_data...\n",
            "[nltk_data]   Unzipping corpora/stopwords.zip.\n"
          ]
        },
        {
          "output_type": "execute_result",
          "data": {
            "application/vnd.google.colaboratory.intrinsic+json": {
              "type": "string"
            },
            "text/plain": [
              "\"i, me, my, myself, we, our, ours, ourselves, you, you're, you've, you'll, you'd, your, yours, yourself, yourselves, he, him, his, himself, she, she's, her, hers, herself, it, it's, its, itself, they, them, their, theirs, themselves, what, which, who, whom, this, that, that'll, these, those, am, is, are, was, were, be, been, being, have, has, had, having, do, does, did, doing, a, an, the, and, but, if, or, because, as, until, while, of, at, by, for, with, about, against, between, into, through, during, before, after, above, below, to, from, up, down, in, out, on, off, over, under, again, further, then, once, here, there, when, where, why, how, all, any, both, each, few, more, most, other, some, such, no, nor, not, only, own, same, so, than, too, very, s, t, can, will, just, don, don't, should, should've, now, d, ll, m, o, re, ve, y, ain, aren, aren't, couldn, couldn't, didn, didn't, doesn, doesn't, hadn, hadn't, hasn, hasn't, haven, haven't, isn, isn't, ma, mightn, mightn't, mustn, mustn't, needn, needn't, shan, shan't, shouldn, shouldn't, wasn, wasn't, weren, weren't, won, won't, wouldn, wouldn't\""
            ]
          },
          "metadata": {},
          "execution_count": 22
        }
      ]
    },
    {
      "cell_type": "code",
      "source": [
        "STOPWORDS = set(stopwords.words('english'))\n",
        "def remove_stopwords(comments):\n",
        "    \"\"\"custom function to remove the stopwords\"\"\"\n",
        "    return \" \".join([word for word in str(comments).split() if word not in STOPWORDS])\n",
        "\n",
        "data[\"comments\"] = data[\"comments\"].apply(lambda comments: remove_stopwords(comments))\n",
        "data.head(10)"
      ],
      "metadata": {
        "colab": {
          "base_uri": "https://localhost:8080/",
          "height": 363
        },
        "id": "IPziQS6CHQfI",
        "outputId": "3e9bd913-b276-47c9-b2b7-2dc42cbdca42"
      },
      "execution_count": null,
      "outputs": [
        {
          "output_type": "execute_result",
          "data": {
            "text/html": [
              "\n",
              "  <div id=\"df-71f24c58-2e75-4b3e-9e43-9ea959f061c3\">\n",
              "    <div class=\"colab-df-container\">\n",
              "      <div>\n",
              "<style scoped>\n",
              "    .dataframe tbody tr th:only-of-type {\n",
              "        vertical-align: middle;\n",
              "    }\n",
              "\n",
              "    .dataframe tbody tr th {\n",
              "        vertical-align: top;\n",
              "    }\n",
              "\n",
              "    .dataframe thead th {\n",
              "        text-align: right;\n",
              "    }\n",
              "</style>\n",
              "<table border=\"1\" class=\"dataframe\">\n",
              "  <thead>\n",
              "    <tr style=\"text-align: right;\">\n",
              "      <th></th>\n",
              "      <th>comments</th>\n",
              "    </tr>\n",
              "  </thead>\n",
              "  <tbody>\n",
              "    <tr>\n",
              "      <th>0</th>\n",
              "      <td>icici getting strong fundamental signals beat ...</td>\n",
              "    </tr>\n",
              "    <tr>\n",
              "      <th>1</th>\n",
              "      <td>risk tolerance level risk investor willing tak...</td>\n",
              "    </tr>\n",
              "    <tr>\n",
              "      <th>2</th>\n",
              "      <td>investors often enhance profits compounding re...</td>\n",
              "    </tr>\n",
              "    <tr>\n",
              "      <th>3</th>\n",
              "      <td>anyone give updated rating stock currently hold</td>\n",
              "    </tr>\n",
              "    <tr>\n",
              "      <th>4</th>\n",
              "      <td>great jackpot deal u2026u2026u2026just say hi ...</td>\n",
              "    </tr>\n",
              "    <tr>\n",
              "      <th>5</th>\n",
              "      <td>icici bank bullish breaks resistance level kno...</td>\n",
              "    </tr>\n",
              "    <tr>\n",
              "      <th>6</th>\n",
              "      <td>telle grm profitjunction mm formed bearish pat...</td>\n",
              "    </tr>\n",
              "    <tr>\n",
              "      <th>7</th>\n",
              "      <td>icici bank bullish breaks resistance level kno...</td>\n",
              "    </tr>\n",
              "    <tr>\n",
              "      <th>8</th>\n",
              "      <td>icici getting strong fundamental signals beat ...</td>\n",
              "    </tr>\n",
              "    <tr>\n",
              "      <th>9</th>\n",
              "      <td>small black crow alert double top pattern decide</td>\n",
              "    </tr>\n",
              "  </tbody>\n",
              "</table>\n",
              "</div>\n",
              "      <button class=\"colab-df-convert\" onclick=\"convertToInteractive('df-71f24c58-2e75-4b3e-9e43-9ea959f061c3')\"\n",
              "              title=\"Convert this dataframe to an interactive table.\"\n",
              "              style=\"display:none;\">\n",
              "        \n",
              "  <svg xmlns=\"http://www.w3.org/2000/svg\" height=\"24px\"viewBox=\"0 0 24 24\"\n",
              "       width=\"24px\">\n",
              "    <path d=\"M0 0h24v24H0V0z\" fill=\"none\"/>\n",
              "    <path d=\"M18.56 5.44l.94 2.06.94-2.06 2.06-.94-2.06-.94-.94-2.06-.94 2.06-2.06.94zm-11 1L8.5 8.5l.94-2.06 2.06-.94-2.06-.94L8.5 2.5l-.94 2.06-2.06.94zm10 10l.94 2.06.94-2.06 2.06-.94-2.06-.94-.94-2.06-.94 2.06-2.06.94z\"/><path d=\"M17.41 7.96l-1.37-1.37c-.4-.4-.92-.59-1.43-.59-.52 0-1.04.2-1.43.59L10.3 9.45l-7.72 7.72c-.78.78-.78 2.05 0 2.83L4 21.41c.39.39.9.59 1.41.59.51 0 1.02-.2 1.41-.59l7.78-7.78 2.81-2.81c.8-.78.8-2.07 0-2.86zM5.41 20L4 18.59l7.72-7.72 1.47 1.35L5.41 20z\"/>\n",
              "  </svg>\n",
              "      </button>\n",
              "      \n",
              "  <style>\n",
              "    .colab-df-container {\n",
              "      display:flex;\n",
              "      flex-wrap:wrap;\n",
              "      gap: 12px;\n",
              "    }\n",
              "\n",
              "    .colab-df-convert {\n",
              "      background-color: #E8F0FE;\n",
              "      border: none;\n",
              "      border-radius: 50%;\n",
              "      cursor: pointer;\n",
              "      display: none;\n",
              "      fill: #1967D2;\n",
              "      height: 32px;\n",
              "      padding: 0 0 0 0;\n",
              "      width: 32px;\n",
              "    }\n",
              "\n",
              "    .colab-df-convert:hover {\n",
              "      background-color: #E2EBFA;\n",
              "      box-shadow: 0px 1px 2px rgba(60, 64, 67, 0.3), 0px 1px 3px 1px rgba(60, 64, 67, 0.15);\n",
              "      fill: #174EA6;\n",
              "    }\n",
              "\n",
              "    [theme=dark] .colab-df-convert {\n",
              "      background-color: #3B4455;\n",
              "      fill: #D2E3FC;\n",
              "    }\n",
              "\n",
              "    [theme=dark] .colab-df-convert:hover {\n",
              "      background-color: #434B5C;\n",
              "      box-shadow: 0px 1px 3px 1px rgba(0, 0, 0, 0.15);\n",
              "      filter: drop-shadow(0px 1px 2px rgba(0, 0, 0, 0.3));\n",
              "      fill: #FFFFFF;\n",
              "    }\n",
              "  </style>\n",
              "\n",
              "      <script>\n",
              "        const buttonEl =\n",
              "          document.querySelector('#df-71f24c58-2e75-4b3e-9e43-9ea959f061c3 button.colab-df-convert');\n",
              "        buttonEl.style.display =\n",
              "          google.colab.kernel.accessAllowed ? 'block' : 'none';\n",
              "\n",
              "        async function convertToInteractive(key) {\n",
              "          const element = document.querySelector('#df-71f24c58-2e75-4b3e-9e43-9ea959f061c3');\n",
              "          const dataTable =\n",
              "            await google.colab.kernel.invokeFunction('convertToInteractive',\n",
              "                                                     [key], {});\n",
              "          if (!dataTable) return;\n",
              "\n",
              "          const docLinkHtml = 'Like what you see? Visit the ' +\n",
              "            '<a target=\"_blank\" href=https://colab.research.google.com/notebooks/data_table.ipynb>data table notebook</a>'\n",
              "            + ' to learn more about interactive tables.';\n",
              "          element.innerHTML = '';\n",
              "          dataTable['output_type'] = 'display_data';\n",
              "          await google.colab.output.renderOutput(dataTable, element);\n",
              "          const docLink = document.createElement('div');\n",
              "          docLink.innerHTML = docLinkHtml;\n",
              "          element.appendChild(docLink);\n",
              "        }\n",
              "      </script>\n",
              "    </div>\n",
              "  </div>\n",
              "  "
            ],
            "text/plain": [
              "                                            comments\n",
              "0  icici getting strong fundamental signals beat ...\n",
              "1  risk tolerance level risk investor willing tak...\n",
              "2  investors often enhance profits compounding re...\n",
              "3    anyone give updated rating stock currently hold\n",
              "4  great jackpot deal u2026u2026u2026just say hi ...\n",
              "5  icici bank bullish breaks resistance level kno...\n",
              "6  telle grm profitjunction mm formed bearish pat...\n",
              "7  icici bank bullish breaks resistance level kno...\n",
              "8  icici getting strong fundamental signals beat ...\n",
              "9   small black crow alert double top pattern decide"
            ]
          },
          "metadata": {},
          "execution_count": 24
        }
      ]
    },
    {
      "cell_type": "code",
      "source": [
        "FREQWORDS = set([w for (w, wc) in cnt.most_common(10)])\n",
        "def remove_freqwords(comments):\n",
        "    \"\"\"custom function to remove the frequent words\"\"\"\n",
        "    return \" \".join([word for word in str(comments).split() if word not in FREQWORDS])\n",
        "\n",
        "data[\"comments\"] = data[\"comments\"].apply(lambda comments: remove_freqwords(comments))\n",
        "data.head()"
      ],
      "metadata": {
        "colab": {
          "base_uri": "https://localhost:8080/",
          "height": 245
        },
        "id": "EkyFiFwdJBx9",
        "outputId": "db43315d-298d-419e-c947-4f93536497a8"
      },
      "execution_count": null,
      "outputs": [
        {
          "output_type": "error",
          "ename": "NameError",
          "evalue": "ignored",
          "traceback": [
            "\u001b[0;31m---------------------------------------------------------------------------\u001b[0m",
            "\u001b[0;31mNameError\u001b[0m                                 Traceback (most recent call last)",
            "\u001b[0;32m<ipython-input-25-920976f96b7f>\u001b[0m in \u001b[0;36m<module>\u001b[0;34m()\u001b[0m\n\u001b[0;32m----> 1\u001b[0;31m \u001b[0mFREQWORDS\u001b[0m \u001b[0;34m=\u001b[0m \u001b[0mset\u001b[0m\u001b[0;34m(\u001b[0m\u001b[0;34m[\u001b[0m\u001b[0mw\u001b[0m \u001b[0;32mfor\u001b[0m \u001b[0;34m(\u001b[0m\u001b[0mw\u001b[0m\u001b[0;34m,\u001b[0m \u001b[0mwc\u001b[0m\u001b[0;34m)\u001b[0m \u001b[0;32min\u001b[0m \u001b[0mcnt\u001b[0m\u001b[0;34m.\u001b[0m\u001b[0mmost_common\u001b[0m\u001b[0;34m(\u001b[0m\u001b[0;36m10\u001b[0m\u001b[0;34m)\u001b[0m\u001b[0;34m]\u001b[0m\u001b[0;34m)\u001b[0m\u001b[0;34m\u001b[0m\u001b[0;34m\u001b[0m\u001b[0m\n\u001b[0m\u001b[1;32m      2\u001b[0m \u001b[0;32mdef\u001b[0m \u001b[0mremove_freqwords\u001b[0m\u001b[0;34m(\u001b[0m\u001b[0mcomments\u001b[0m\u001b[0;34m)\u001b[0m\u001b[0;34m:\u001b[0m\u001b[0;34m\u001b[0m\u001b[0;34m\u001b[0m\u001b[0m\n\u001b[1;32m      3\u001b[0m     \u001b[0;34m\"\"\"custom function to remove the frequent words\"\"\"\u001b[0m\u001b[0;34m\u001b[0m\u001b[0;34m\u001b[0m\u001b[0m\n\u001b[1;32m      4\u001b[0m     \u001b[0;32mreturn\u001b[0m \u001b[0;34m\" \"\u001b[0m\u001b[0;34m.\u001b[0m\u001b[0mjoin\u001b[0m\u001b[0;34m(\u001b[0m\u001b[0;34m[\u001b[0m\u001b[0mword\u001b[0m \u001b[0;32mfor\u001b[0m \u001b[0mword\u001b[0m \u001b[0;32min\u001b[0m \u001b[0mstr\u001b[0m\u001b[0;34m(\u001b[0m\u001b[0mcomments\u001b[0m\u001b[0;34m)\u001b[0m\u001b[0;34m.\u001b[0m\u001b[0msplit\u001b[0m\u001b[0;34m(\u001b[0m\u001b[0;34m)\u001b[0m \u001b[0;32mif\u001b[0m \u001b[0mword\u001b[0m \u001b[0;32mnot\u001b[0m \u001b[0;32min\u001b[0m \u001b[0mFREQWORDS\u001b[0m\u001b[0;34m]\u001b[0m\u001b[0;34m)\u001b[0m\u001b[0;34m\u001b[0m\u001b[0;34m\u001b[0m\u001b[0m\n\u001b[1;32m      5\u001b[0m \u001b[0;34m\u001b[0m\u001b[0m\n",
            "\u001b[0;31mNameError\u001b[0m: name 'cnt' is not defined"
          ]
        }
      ]
    },
    {
      "cell_type": "code",
      "source": [
        "from nltk.stem.porter import PorterStemmer\n",
        "stemmer = PorterStemmer()\n",
        "def stem_words(comments):\n",
        "    return \" \".join([stemmer.stem(word) for word in comments.split()])\n",
        "\n",
        "data[\"comments\"] = data[\"comments\"].apply(lambda comments: stem_words(comments))\n",
        "data.head()"
      ],
      "metadata": {
        "colab": {
          "base_uri": "https://localhost:8080/",
          "height": 206
        },
        "id": "g07-zLvrJcvf",
        "outputId": "c56b7736-561c-43e5-a698-2312d61ef799"
      },
      "execution_count": null,
      "outputs": [
        {
          "output_type": "execute_result",
          "data": {
            "text/html": [
              "\n",
              "  <div id=\"df-3f12f6d3-edda-414a-b0a1-3d4045ed1827\">\n",
              "    <div class=\"colab-df-container\">\n",
              "      <div>\n",
              "<style scoped>\n",
              "    .dataframe tbody tr th:only-of-type {\n",
              "        vertical-align: middle;\n",
              "    }\n",
              "\n",
              "    .dataframe tbody tr th {\n",
              "        vertical-align: top;\n",
              "    }\n",
              "\n",
              "    .dataframe thead th {\n",
              "        text-align: right;\n",
              "    }\n",
              "</style>\n",
              "<table border=\"1\" class=\"dataframe\">\n",
              "  <thead>\n",
              "    <tr style=\"text-align: right;\">\n",
              "      <th></th>\n",
              "      <th>comments</th>\n",
              "    </tr>\n",
              "  </thead>\n",
              "  <tbody>\n",
              "    <tr>\n",
              "      <th>0</th>\n",
              "      <td>icici get strong fundament signal beat impact ...</td>\n",
              "    </tr>\n",
              "    <tr>\n",
              "      <th>1</th>\n",
              "      <td>risk toler level risk investor will take invest</td>\n",
              "    </tr>\n",
              "    <tr>\n",
              "      <th>2</th>\n",
              "      <td>investor often enhanc profit compound reinvest...</td>\n",
              "    </tr>\n",
              "    <tr>\n",
              "      <th>3</th>\n",
              "      <td>anyon give updat rate stock current hold</td>\n",
              "    </tr>\n",
              "    <tr>\n",
              "      <th>4</th>\n",
              "      <td>great jackpot deal u2026u2026u2026just say hi ...</td>\n",
              "    </tr>\n",
              "  </tbody>\n",
              "</table>\n",
              "</div>\n",
              "      <button class=\"colab-df-convert\" onclick=\"convertToInteractive('df-3f12f6d3-edda-414a-b0a1-3d4045ed1827')\"\n",
              "              title=\"Convert this dataframe to an interactive table.\"\n",
              "              style=\"display:none;\">\n",
              "        \n",
              "  <svg xmlns=\"http://www.w3.org/2000/svg\" height=\"24px\"viewBox=\"0 0 24 24\"\n",
              "       width=\"24px\">\n",
              "    <path d=\"M0 0h24v24H0V0z\" fill=\"none\"/>\n",
              "    <path d=\"M18.56 5.44l.94 2.06.94-2.06 2.06-.94-2.06-.94-.94-2.06-.94 2.06-2.06.94zm-11 1L8.5 8.5l.94-2.06 2.06-.94-2.06-.94L8.5 2.5l-.94 2.06-2.06.94zm10 10l.94 2.06.94-2.06 2.06-.94-2.06-.94-.94-2.06-.94 2.06-2.06.94z\"/><path d=\"M17.41 7.96l-1.37-1.37c-.4-.4-.92-.59-1.43-.59-.52 0-1.04.2-1.43.59L10.3 9.45l-7.72 7.72c-.78.78-.78 2.05 0 2.83L4 21.41c.39.39.9.59 1.41.59.51 0 1.02-.2 1.41-.59l7.78-7.78 2.81-2.81c.8-.78.8-2.07 0-2.86zM5.41 20L4 18.59l7.72-7.72 1.47 1.35L5.41 20z\"/>\n",
              "  </svg>\n",
              "      </button>\n",
              "      \n",
              "  <style>\n",
              "    .colab-df-container {\n",
              "      display:flex;\n",
              "      flex-wrap:wrap;\n",
              "      gap: 12px;\n",
              "    }\n",
              "\n",
              "    .colab-df-convert {\n",
              "      background-color: #E8F0FE;\n",
              "      border: none;\n",
              "      border-radius: 50%;\n",
              "      cursor: pointer;\n",
              "      display: none;\n",
              "      fill: #1967D2;\n",
              "      height: 32px;\n",
              "      padding: 0 0 0 0;\n",
              "      width: 32px;\n",
              "    }\n",
              "\n",
              "    .colab-df-convert:hover {\n",
              "      background-color: #E2EBFA;\n",
              "      box-shadow: 0px 1px 2px rgba(60, 64, 67, 0.3), 0px 1px 3px 1px rgba(60, 64, 67, 0.15);\n",
              "      fill: #174EA6;\n",
              "    }\n",
              "\n",
              "    [theme=dark] .colab-df-convert {\n",
              "      background-color: #3B4455;\n",
              "      fill: #D2E3FC;\n",
              "    }\n",
              "\n",
              "    [theme=dark] .colab-df-convert:hover {\n",
              "      background-color: #434B5C;\n",
              "      box-shadow: 0px 1px 3px 1px rgba(0, 0, 0, 0.15);\n",
              "      filter: drop-shadow(0px 1px 2px rgba(0, 0, 0, 0.3));\n",
              "      fill: #FFFFFF;\n",
              "    }\n",
              "  </style>\n",
              "\n",
              "      <script>\n",
              "        const buttonEl =\n",
              "          document.querySelector('#df-3f12f6d3-edda-414a-b0a1-3d4045ed1827 button.colab-df-convert');\n",
              "        buttonEl.style.display =\n",
              "          google.colab.kernel.accessAllowed ? 'block' : 'none';\n",
              "\n",
              "        async function convertToInteractive(key) {\n",
              "          const element = document.querySelector('#df-3f12f6d3-edda-414a-b0a1-3d4045ed1827');\n",
              "          const dataTable =\n",
              "            await google.colab.kernel.invokeFunction('convertToInteractive',\n",
              "                                                     [key], {});\n",
              "          if (!dataTable) return;\n",
              "\n",
              "          const docLinkHtml = 'Like what you see? Visit the ' +\n",
              "            '<a target=\"_blank\" href=https://colab.research.google.com/notebooks/data_table.ipynb>data table notebook</a>'\n",
              "            + ' to learn more about interactive tables.';\n",
              "          element.innerHTML = '';\n",
              "          dataTable['output_type'] = 'display_data';\n",
              "          await google.colab.output.renderOutput(dataTable, element);\n",
              "          const docLink = document.createElement('div');\n",
              "          docLink.innerHTML = docLinkHtml;\n",
              "          element.appendChild(docLink);\n",
              "        }\n",
              "      </script>\n",
              "    </div>\n",
              "  </div>\n",
              "  "
            ],
            "text/plain": [
              "                                            comments\n",
              "0  icici get strong fundament signal beat impact ...\n",
              "1    risk toler level risk investor will take invest\n",
              "2  investor often enhanc profit compound reinvest...\n",
              "3           anyon give updat rate stock current hold\n",
              "4  great jackpot deal u2026u2026u2026just say hi ..."
            ]
          },
          "metadata": {},
          "execution_count": 26
        }
      ]
    },
    {
      "cell_type": "code",
      "source": [
        "from nltk.stem.snowball import SnowballStemmer\n",
        "SnowballStemmer.languages"
      ],
      "metadata": {
        "colab": {
          "base_uri": "https://localhost:8080/"
        },
        "id": "YXhCI9xAKpwn",
        "outputId": "f02a3b33-5076-4821-9380-c300cc83e0a4"
      },
      "execution_count": null,
      "outputs": [
        {
          "output_type": "execute_result",
          "data": {
            "text/plain": [
              "('arabic',\n",
              " 'danish',\n",
              " 'dutch',\n",
              " 'english',\n",
              " 'finnish',\n",
              " 'french',\n",
              " 'german',\n",
              " 'hungarian',\n",
              " 'italian',\n",
              " 'norwegian',\n",
              " 'porter',\n",
              " 'portuguese',\n",
              " 'romanian',\n",
              " 'russian',\n",
              " 'spanish',\n",
              " 'swedish')"
            ]
          },
          "metadata": {},
          "execution_count": 27
        }
      ]
    },
    {
      "cell_type": "code",
      "source": [
        "nltk.download('wordnet')"
      ],
      "metadata": {
        "colab": {
          "base_uri": "https://localhost:8080/"
        },
        "id": "7Uxx-UkRMGKb",
        "outputId": "0939ef91-c81a-4ac0-e982-005788b12b8a"
      },
      "execution_count": null,
      "outputs": [
        {
          "output_type": "stream",
          "name": "stdout",
          "text": [
            "[nltk_data] Downloading package wordnet to /root/nltk_data...\n",
            "[nltk_data]   Package wordnet is already up-to-date!\n"
          ]
        },
        {
          "output_type": "execute_result",
          "data": {
            "text/plain": [
              "True"
            ]
          },
          "metadata": {},
          "execution_count": 29
        }
      ]
    },
    {
      "cell_type": "code",
      "source": [
        "from nltk.stem import WordNetLemmatizer\n",
        "lemmatizer = WordNetLemmatizer()\n",
        "def lemmatize_words(comments):\n",
        "    return \" \".join([lemmatizer.lemmatize(word) for word in comments.split()])\n",
        "\n",
        "data[\"comments\"] = data[\"comments\"].apply(lambda comments: lemmatize_words(comments))\n",
        "data.head(20)"
      ],
      "metadata": {
        "colab": {
          "base_uri": "https://localhost:8080/",
          "height": 676
        },
        "id": "Eu1b9Lh3Kr-i",
        "outputId": "19ca42a8-f9b3-4c21-a51e-2aebb4a110e3"
      },
      "execution_count": null,
      "outputs": [
        {
          "output_type": "execute_result",
          "data": {
            "text/html": [
              "\n",
              "  <div id=\"df-04ecb4f4-c138-44d0-9862-34cad815c41d\">\n",
              "    <div class=\"colab-df-container\">\n",
              "      <div>\n",
              "<style scoped>\n",
              "    .dataframe tbody tr th:only-of-type {\n",
              "        vertical-align: middle;\n",
              "    }\n",
              "\n",
              "    .dataframe tbody tr th {\n",
              "        vertical-align: top;\n",
              "    }\n",
              "\n",
              "    .dataframe thead th {\n",
              "        text-align: right;\n",
              "    }\n",
              "</style>\n",
              "<table border=\"1\" class=\"dataframe\">\n",
              "  <thead>\n",
              "    <tr style=\"text-align: right;\">\n",
              "      <th></th>\n",
              "      <th>comments</th>\n",
              "    </tr>\n",
              "  </thead>\n",
              "  <tbody>\n",
              "    <tr>\n",
              "      <th>0</th>\n",
              "      <td>icici get strong fundament signal beat impact ...</td>\n",
              "    </tr>\n",
              "    <tr>\n",
              "      <th>1</th>\n",
              "      <td>risk toler level risk investor will take invest</td>\n",
              "    </tr>\n",
              "    <tr>\n",
              "      <th>2</th>\n",
              "      <td>investor often enhanc profit compound reinvest...</td>\n",
              "    </tr>\n",
              "    <tr>\n",
              "      <th>3</th>\n",
              "      <td>anyon give updat rate stock current hold</td>\n",
              "    </tr>\n",
              "    <tr>\n",
              "      <th>4</th>\n",
              "      <td>great jackpot deal u2026u2026u2026just say hi ...</td>\n",
              "    </tr>\n",
              "    <tr>\n",
              "      <th>5</th>\n",
              "      <td>icici bank bullish break resist level know exa...</td>\n",
              "    </tr>\n",
              "    <tr>\n",
              "      <th>6</th>\n",
              "      <td>tell grm profitjunct mm form bearish pattern b...</td>\n",
              "    </tr>\n",
              "    <tr>\n",
              "      <th>7</th>\n",
              "      <td>icici bank bullish break resist level know exa...</td>\n",
              "    </tr>\n",
              "    <tr>\n",
              "      <th>8</th>\n",
              "      <td>icici get strong fundament signal beat impact ...</td>\n",
              "    </tr>\n",
              "    <tr>\n",
              "      <th>9</th>\n",
              "      <td>small black crow alert doubl top pattern decid</td>\n",
              "    </tr>\n",
              "    <tr>\n",
              "      <th>10</th>\n",
              "      <td>icici bank bullish break resist level know exa...</td>\n",
              "    </tr>\n",
              "    <tr>\n",
              "      <th>11</th>\n",
              "      <td>icici get strong fundament signal beat impact ...</td>\n",
              "    </tr>\n",
              "    <tr>\n",
              "      <th>12</th>\n",
              "      <td>icici bank bullish break resist level know exa...</td>\n",
              "    </tr>\n",
              "    <tr>\n",
              "      <th>13</th>\n",
              "      <td>icici get strong fundament signal beat impact ...</td>\n",
              "    </tr>\n",
              "    <tr>\n",
              "      <th>14</th>\n",
              "      <td>icici bank bullish break resist level know exa...</td>\n",
              "    </tr>\n",
              "    <tr>\n",
              "      <th>15</th>\n",
              "      <td>icici bank bullish break resist level know exa...</td>\n",
              "    </tr>\n",
              "    <tr>\n",
              "      <th>16</th>\n",
              "      <td>zeel cmp 350 tomorrow morn come 360370 anyhelp...</td>\n",
              "    </tr>\n",
              "    <tr>\n",
              "      <th>17</th>\n",
              "      <td>icici bank bullish break resist level know exa...</td>\n",
              "    </tr>\n",
              "    <tr>\n",
              "      <th>18</th>\n",
              "      <td>stock go quickli level target rs860</td>\n",
              "    </tr>\n",
              "    <tr>\n",
              "      <th>19</th>\n",
              "      <td>buy icici bank near 820 morn tgt 840855 telleg...</td>\n",
              "    </tr>\n",
              "  </tbody>\n",
              "</table>\n",
              "</div>\n",
              "      <button class=\"colab-df-convert\" onclick=\"convertToInteractive('df-04ecb4f4-c138-44d0-9862-34cad815c41d')\"\n",
              "              title=\"Convert this dataframe to an interactive table.\"\n",
              "              style=\"display:none;\">\n",
              "        \n",
              "  <svg xmlns=\"http://www.w3.org/2000/svg\" height=\"24px\"viewBox=\"0 0 24 24\"\n",
              "       width=\"24px\">\n",
              "    <path d=\"M0 0h24v24H0V0z\" fill=\"none\"/>\n",
              "    <path d=\"M18.56 5.44l.94 2.06.94-2.06 2.06-.94-2.06-.94-.94-2.06-.94 2.06-2.06.94zm-11 1L8.5 8.5l.94-2.06 2.06-.94-2.06-.94L8.5 2.5l-.94 2.06-2.06.94zm10 10l.94 2.06.94-2.06 2.06-.94-2.06-.94-.94-2.06-.94 2.06-2.06.94z\"/><path d=\"M17.41 7.96l-1.37-1.37c-.4-.4-.92-.59-1.43-.59-.52 0-1.04.2-1.43.59L10.3 9.45l-7.72 7.72c-.78.78-.78 2.05 0 2.83L4 21.41c.39.39.9.59 1.41.59.51 0 1.02-.2 1.41-.59l7.78-7.78 2.81-2.81c.8-.78.8-2.07 0-2.86zM5.41 20L4 18.59l7.72-7.72 1.47 1.35L5.41 20z\"/>\n",
              "  </svg>\n",
              "      </button>\n",
              "      \n",
              "  <style>\n",
              "    .colab-df-container {\n",
              "      display:flex;\n",
              "      flex-wrap:wrap;\n",
              "      gap: 12px;\n",
              "    }\n",
              "\n",
              "    .colab-df-convert {\n",
              "      background-color: #E8F0FE;\n",
              "      border: none;\n",
              "      border-radius: 50%;\n",
              "      cursor: pointer;\n",
              "      display: none;\n",
              "      fill: #1967D2;\n",
              "      height: 32px;\n",
              "      padding: 0 0 0 0;\n",
              "      width: 32px;\n",
              "    }\n",
              "\n",
              "    .colab-df-convert:hover {\n",
              "      background-color: #E2EBFA;\n",
              "      box-shadow: 0px 1px 2px rgba(60, 64, 67, 0.3), 0px 1px 3px 1px rgba(60, 64, 67, 0.15);\n",
              "      fill: #174EA6;\n",
              "    }\n",
              "\n",
              "    [theme=dark] .colab-df-convert {\n",
              "      background-color: #3B4455;\n",
              "      fill: #D2E3FC;\n",
              "    }\n",
              "\n",
              "    [theme=dark] .colab-df-convert:hover {\n",
              "      background-color: #434B5C;\n",
              "      box-shadow: 0px 1px 3px 1px rgba(0, 0, 0, 0.15);\n",
              "      filter: drop-shadow(0px 1px 2px rgba(0, 0, 0, 0.3));\n",
              "      fill: #FFFFFF;\n",
              "    }\n",
              "  </style>\n",
              "\n",
              "      <script>\n",
              "        const buttonEl =\n",
              "          document.querySelector('#df-04ecb4f4-c138-44d0-9862-34cad815c41d button.colab-df-convert');\n",
              "        buttonEl.style.display =\n",
              "          google.colab.kernel.accessAllowed ? 'block' : 'none';\n",
              "\n",
              "        async function convertToInteractive(key) {\n",
              "          const element = document.querySelector('#df-04ecb4f4-c138-44d0-9862-34cad815c41d');\n",
              "          const dataTable =\n",
              "            await google.colab.kernel.invokeFunction('convertToInteractive',\n",
              "                                                     [key], {});\n",
              "          if (!dataTable) return;\n",
              "\n",
              "          const docLinkHtml = 'Like what you see? Visit the ' +\n",
              "            '<a target=\"_blank\" href=https://colab.research.google.com/notebooks/data_table.ipynb>data table notebook</a>'\n",
              "            + ' to learn more about interactive tables.';\n",
              "          element.innerHTML = '';\n",
              "          dataTable['output_type'] = 'display_data';\n",
              "          await google.colab.output.renderOutput(dataTable, element);\n",
              "          const docLink = document.createElement('div');\n",
              "          docLink.innerHTML = docLinkHtml;\n",
              "          element.appendChild(docLink);\n",
              "        }\n",
              "      </script>\n",
              "    </div>\n",
              "  </div>\n",
              "  "
            ],
            "text/plain": [
              "                                             comments\n",
              "0   icici get strong fundament signal beat impact ...\n",
              "1     risk toler level risk investor will take invest\n",
              "2   investor often enhanc profit compound reinvest...\n",
              "3            anyon give updat rate stock current hold\n",
              "4   great jackpot deal u2026u2026u2026just say hi ...\n",
              "5   icici bank bullish break resist level know exa...\n",
              "6   tell grm profitjunct mm form bearish pattern b...\n",
              "7   icici bank bullish break resist level know exa...\n",
              "8   icici get strong fundament signal beat impact ...\n",
              "9      small black crow alert doubl top pattern decid\n",
              "10  icici bank bullish break resist level know exa...\n",
              "11  icici get strong fundament signal beat impact ...\n",
              "12  icici bank bullish break resist level know exa...\n",
              "13  icici get strong fundament signal beat impact ...\n",
              "14  icici bank bullish break resist level know exa...\n",
              "15  icici bank bullish break resist level know exa...\n",
              "16  zeel cmp 350 tomorrow morn come 360370 anyhelp...\n",
              "17  icici bank bullish break resist level know exa...\n",
              "18                stock go quickli level target rs860\n",
              "19  buy icici bank near 820 morn tgt 840855 telleg..."
            ]
          },
          "metadata": {},
          "execution_count": 30
        }
      ]
    },
    {
      "cell_type": "code",
      "source": [
        "lemmatizer.lemmatize(\"running\")"
      ],
      "metadata": {
        "colab": {
          "base_uri": "https://localhost:8080/",
          "height": 35
        },
        "id": "lXYTnAF_Mx8P",
        "outputId": "aa68af0e-b66a-4db0-fe33-1b11da715108"
      },
      "execution_count": null,
      "outputs": [
        {
          "output_type": "execute_result",
          "data": {
            "application/vnd.google.colaboratory.intrinsic+json": {
              "type": "string"
            },
            "text/plain": [
              "'running'"
            ]
          },
          "metadata": {},
          "execution_count": 31
        }
      ]
    },
    {
      "cell_type": "code",
      "source": [
        "print(\"Word is : stripes\")\n",
        "print(\"Lemma result for verb : \",lemmatizer.lemmatize(\"stripes\", 'v'))\n",
        "print(\"Lemma result for noun : \",lemmatizer.lemmatize(\"stripes\", 'n'))"
      ],
      "metadata": {
        "colab": {
          "base_uri": "https://localhost:8080/"
        },
        "id": "lPMaQoJvPYRV",
        "outputId": "c2f983aa-a09c-4e0e-a7cc-833c3b319104"
      },
      "execution_count": null,
      "outputs": [
        {
          "output_type": "stream",
          "name": "stdout",
          "text": [
            "Word is : stripes\n",
            "Lemma result for verb :  strip\n",
            "Lemma result for noun :  stripe\n"
          ]
        }
      ]
    },
    {
      "cell_type": "code",
      "source": [
        "from nltk.corpus import wordnet\n",
        "from nltk.stem import WordNetLemmatizer\n",
        "nltk.download('averaged_perceptron_tagger')\n",
        "\n",
        "lemmatizer = WordNetLemmatizer()\n",
        "wordnet_map = {\"N\":wordnet.NOUN, \"V\":wordnet.VERB, \"J\":wordnet.ADJ, \"R\":wordnet.ADV}\n",
        "def lemmatize_words(comments):\n",
        "    pos_tagged_comments = nltk.pos_tag(comments.split())\n",
        "    return \" \".join([lemmatizer.lemmatize(word, wordnet_map.get(pos[0], wordnet.NOUN)) for word, pos in pos_tagged_comments])\n",
        "\n",
        "data[\"comments\"] = data[\"comments\"].apply(lambda comments: lemmatize_words(comments))\n",
        "data.head()"
      ],
      "metadata": {
        "colab": {
          "base_uri": "https://localhost:8080/",
          "height": 261
        },
        "id": "E_m2sil0Ph1e",
        "outputId": "cfb066b8-bb33-45fe-e1df-1b4b74f5f5ca"
      },
      "execution_count": null,
      "outputs": [
        {
          "output_type": "stream",
          "name": "stdout",
          "text": [
            "[nltk_data] Downloading package averaged_perceptron_tagger to\n",
            "[nltk_data]     /root/nltk_data...\n",
            "[nltk_data]   Unzipping taggers/averaged_perceptron_tagger.zip.\n"
          ]
        },
        {
          "output_type": "execute_result",
          "data": {
            "text/html": [
              "\n",
              "  <div id=\"df-62a16247-cc4b-485a-b217-94b0b26ef1a5\">\n",
              "    <div class=\"colab-df-container\">\n",
              "      <div>\n",
              "<style scoped>\n",
              "    .dataframe tbody tr th:only-of-type {\n",
              "        vertical-align: middle;\n",
              "    }\n",
              "\n",
              "    .dataframe tbody tr th {\n",
              "        vertical-align: top;\n",
              "    }\n",
              "\n",
              "    .dataframe thead th {\n",
              "        text-align: right;\n",
              "    }\n",
              "</style>\n",
              "<table border=\"1\" class=\"dataframe\">\n",
              "  <thead>\n",
              "    <tr style=\"text-align: right;\">\n",
              "      <th></th>\n",
              "      <th>comments</th>\n",
              "    </tr>\n",
              "  </thead>\n",
              "  <tbody>\n",
              "    <tr>\n",
              "      <th>0</th>\n",
              "      <td>icici get strong fundament signal beat impact ...</td>\n",
              "    </tr>\n",
              "    <tr>\n",
              "      <th>1</th>\n",
              "      <td>risk toler level risk investor will take invest</td>\n",
              "    </tr>\n",
              "    <tr>\n",
              "      <th>2</th>\n",
              "      <td>investor often enhanc profit compound reinvest...</td>\n",
              "    </tr>\n",
              "    <tr>\n",
              "      <th>3</th>\n",
              "      <td>anyon give updat rate stock current hold</td>\n",
              "    </tr>\n",
              "    <tr>\n",
              "      <th>4</th>\n",
              "      <td>great jackpot deal u2026u2026u2026just say hi ...</td>\n",
              "    </tr>\n",
              "  </tbody>\n",
              "</table>\n",
              "</div>\n",
              "      <button class=\"colab-df-convert\" onclick=\"convertToInteractive('df-62a16247-cc4b-485a-b217-94b0b26ef1a5')\"\n",
              "              title=\"Convert this dataframe to an interactive table.\"\n",
              "              style=\"display:none;\">\n",
              "        \n",
              "  <svg xmlns=\"http://www.w3.org/2000/svg\" height=\"24px\"viewBox=\"0 0 24 24\"\n",
              "       width=\"24px\">\n",
              "    <path d=\"M0 0h24v24H0V0z\" fill=\"none\"/>\n",
              "    <path d=\"M18.56 5.44l.94 2.06.94-2.06 2.06-.94-2.06-.94-.94-2.06-.94 2.06-2.06.94zm-11 1L8.5 8.5l.94-2.06 2.06-.94-2.06-.94L8.5 2.5l-.94 2.06-2.06.94zm10 10l.94 2.06.94-2.06 2.06-.94-2.06-.94-.94-2.06-.94 2.06-2.06.94z\"/><path d=\"M17.41 7.96l-1.37-1.37c-.4-.4-.92-.59-1.43-.59-.52 0-1.04.2-1.43.59L10.3 9.45l-7.72 7.72c-.78.78-.78 2.05 0 2.83L4 21.41c.39.39.9.59 1.41.59.51 0 1.02-.2 1.41-.59l7.78-7.78 2.81-2.81c.8-.78.8-2.07 0-2.86zM5.41 20L4 18.59l7.72-7.72 1.47 1.35L5.41 20z\"/>\n",
              "  </svg>\n",
              "      </button>\n",
              "      \n",
              "  <style>\n",
              "    .colab-df-container {\n",
              "      display:flex;\n",
              "      flex-wrap:wrap;\n",
              "      gap: 12px;\n",
              "    }\n",
              "\n",
              "    .colab-df-convert {\n",
              "      background-color: #E8F0FE;\n",
              "      border: none;\n",
              "      border-radius: 50%;\n",
              "      cursor: pointer;\n",
              "      display: none;\n",
              "      fill: #1967D2;\n",
              "      height: 32px;\n",
              "      padding: 0 0 0 0;\n",
              "      width: 32px;\n",
              "    }\n",
              "\n",
              "    .colab-df-convert:hover {\n",
              "      background-color: #E2EBFA;\n",
              "      box-shadow: 0px 1px 2px rgba(60, 64, 67, 0.3), 0px 1px 3px 1px rgba(60, 64, 67, 0.15);\n",
              "      fill: #174EA6;\n",
              "    }\n",
              "\n",
              "    [theme=dark] .colab-df-convert {\n",
              "      background-color: #3B4455;\n",
              "      fill: #D2E3FC;\n",
              "    }\n",
              "\n",
              "    [theme=dark] .colab-df-convert:hover {\n",
              "      background-color: #434B5C;\n",
              "      box-shadow: 0px 1px 3px 1px rgba(0, 0, 0, 0.15);\n",
              "      filter: drop-shadow(0px 1px 2px rgba(0, 0, 0, 0.3));\n",
              "      fill: #FFFFFF;\n",
              "    }\n",
              "  </style>\n",
              "\n",
              "      <script>\n",
              "        const buttonEl =\n",
              "          document.querySelector('#df-62a16247-cc4b-485a-b217-94b0b26ef1a5 button.colab-df-convert');\n",
              "        buttonEl.style.display =\n",
              "          google.colab.kernel.accessAllowed ? 'block' : 'none';\n",
              "\n",
              "        async function convertToInteractive(key) {\n",
              "          const element = document.querySelector('#df-62a16247-cc4b-485a-b217-94b0b26ef1a5');\n",
              "          const dataTable =\n",
              "            await google.colab.kernel.invokeFunction('convertToInteractive',\n",
              "                                                     [key], {});\n",
              "          if (!dataTable) return;\n",
              "\n",
              "          const docLinkHtml = 'Like what you see? Visit the ' +\n",
              "            '<a target=\"_blank\" href=https://colab.research.google.com/notebooks/data_table.ipynb>data table notebook</a>'\n",
              "            + ' to learn more about interactive tables.';\n",
              "          element.innerHTML = '';\n",
              "          dataTable['output_type'] = 'display_data';\n",
              "          await google.colab.output.renderOutput(dataTable, element);\n",
              "          const docLink = document.createElement('div');\n",
              "          docLink.innerHTML = docLinkHtml;\n",
              "          element.appendChild(docLink);\n",
              "        }\n",
              "      </script>\n",
              "    </div>\n",
              "  </div>\n",
              "  "
            ],
            "text/plain": [
              "                                            comments\n",
              "0  icici get strong fundament signal beat impact ...\n",
              "1    risk toler level risk investor will take invest\n",
              "2  investor often enhanc profit compound reinvest...\n",
              "3           anyon give updat rate stock current hold\n",
              "4  great jackpot deal u2026u2026u2026just say hi ..."
            ]
          },
          "metadata": {},
          "execution_count": 33
        }
      ]
    },
    {
      "cell_type": "code",
      "source": [
        "# def remove_emoji(comments):\n",
        "#     emoji_pattern = re.compile(\"[\"\n",
        "#                            u\"\\U0001F600-\\U0001F64F\"  # emoticons\n",
        "#                            u\"\\U0001F300-\\U0001F5FF\"  # symbols & pictographs\n",
        "#                            u\"\\U0001F680-\\U0001F6FF\"  # transport & map symbols\n",
        "#                            u\"\\U0001F1E0-\\U0001F1FF\"  # flags (iOS)\n",
        "#                            u\"\\U00002702-\\U000027B0\"\n",
        "#                            u\"\\U000024C2-\\U0001F251\"\n",
        "#                            \"]+\", flags=re.UNICODE)\n",
        "#     return emoji_pattern.sub(r'', comments)"
      ],
      "metadata": {
        "id": "F-lYj0uDPh4v"
      },
      "execution_count": null,
      "outputs": []
    },
    {
      "cell_type": "code",
      "source": [
        "remove_emoji(\"Hilarious😂\")"
      ],
      "metadata": {
        "colab": {
          "base_uri": "https://localhost:8080/",
          "height": 35
        },
        "id": "cfxditiyPh_G",
        "outputId": "49d41c2f-a934-4fcc-d71e-5e90bfb855d1"
      },
      "execution_count": null,
      "outputs": [
        {
          "output_type": "execute_result",
          "data": {
            "application/vnd.google.colaboratory.intrinsic+json": {
              "type": "string"
            },
            "text/plain": [
              "'Hilarious'"
            ]
          },
          "metadata": {},
          "execution_count": 39
        }
      ]
    },
    {
      "cell_type": "code",
      "source": [
        "# :-) is an emoticon\n",
        "# 😀 is an emoji"
      ],
      "metadata": {
        "id": "3UeU0opwPiCn"
      },
      "execution_count": null,
      "outputs": []
    },
    {
      "cell_type": "code",
      "source": [
        "def remove_urls(comments):\n",
        "    url_pattern = re.compile(r'https?://\\S+|www\\.\\S+')\n",
        "    return url_pattern.sub(r'', comments)\n",
        "    data[\"comments\"] = data[\"comments\"].apply(lambda comments: remove_urls(comments))"
      ],
      "metadata": {
        "id": "QKoTnG--PiFt"
      },
      "execution_count": null,
      "outputs": []
    },
    {
      "cell_type": "code",
      "source": [
        "def remove_html(comments):\n",
        "    html_pattern = re.compile('<.*?>')\n",
        "    return html_pattern.sub(r'', comments)\n",
        "    data[\"comments\"] = data[\"comments\"].apply(lambda comments: remove_html(comments))"
      ],
      "metadata": {
        "id": "ahla_4CfR13o"
      },
      "execution_count": null,
      "outputs": []
    },
    {
      "cell_type": "code",
      "source": [
        "!pip install pyspellchecker"
      ],
      "metadata": {
        "colab": {
          "base_uri": "https://localhost:8080/"
        },
        "id": "hV_NPxY5R2Im",
        "outputId": "6fec1cd2-306a-457d-da39-d7cd095595ff"
      },
      "execution_count": null,
      "outputs": [
        {
          "output_type": "stream",
          "name": "stdout",
          "text": [
            "Collecting pyspellchecker\n",
            "  Downloading pyspellchecker-0.6.3-py3-none-any.whl (2.7 MB)\n",
            "\u001b[?25l\r\u001b[K     |▏                               | 10 kB 42.4 MB/s eta 0:00:01\r\u001b[K     |▎                               | 20 kB 47.9 MB/s eta 0:00:01\r\u001b[K     |▍                               | 30 kB 48.9 MB/s eta 0:00:01\r\u001b[K     |▌                               | 40 kB 49.7 MB/s eta 0:00:01\r\u001b[K     |▋                               | 51 kB 30.9 MB/s eta 0:00:01\r\u001b[K     |▊                               | 61 kB 33.5 MB/s eta 0:00:01\r\u001b[K     |▉                               | 71 kB 24.8 MB/s eta 0:00:01\r\u001b[K     |█                               | 81 kB 26.8 MB/s eta 0:00:01\r\u001b[K     |█                               | 92 kB 28.1 MB/s eta 0:00:01\r\u001b[K     |█▏                              | 102 kB 29.6 MB/s eta 0:00:01\r\u001b[K     |█▎                              | 112 kB 29.6 MB/s eta 0:00:01\r\u001b[K     |█▍                              | 122 kB 29.6 MB/s eta 0:00:01\r\u001b[K     |█▌                              | 133 kB 29.6 MB/s eta 0:00:01\r\u001b[K     |█▊                              | 143 kB 29.6 MB/s eta 0:00:01\r\u001b[K     |█▉                              | 153 kB 29.6 MB/s eta 0:00:01\r\u001b[K     |██                              | 163 kB 29.6 MB/s eta 0:00:01\r\u001b[K     |██                              | 174 kB 29.6 MB/s eta 0:00:01\r\u001b[K     |██▏                             | 184 kB 29.6 MB/s eta 0:00:01\r\u001b[K     |██▎                             | 194 kB 29.6 MB/s eta 0:00:01\r\u001b[K     |██▍                             | 204 kB 29.6 MB/s eta 0:00:01\r\u001b[K     |██▌                             | 215 kB 29.6 MB/s eta 0:00:01\r\u001b[K     |██▋                             | 225 kB 29.6 MB/s eta 0:00:01\r\u001b[K     |██▊                             | 235 kB 29.6 MB/s eta 0:00:01\r\u001b[K     |██▉                             | 245 kB 29.6 MB/s eta 0:00:01\r\u001b[K     |███                             | 256 kB 29.6 MB/s eta 0:00:01\r\u001b[K     |███                             | 266 kB 29.6 MB/s eta 0:00:01\r\u001b[K     |███▎                            | 276 kB 29.6 MB/s eta 0:00:01\r\u001b[K     |███▍                            | 286 kB 29.6 MB/s eta 0:00:01\r\u001b[K     |███▌                            | 296 kB 29.6 MB/s eta 0:00:01\r\u001b[K     |███▋                            | 307 kB 29.6 MB/s eta 0:00:01\r\u001b[K     |███▊                            | 317 kB 29.6 MB/s eta 0:00:01\r\u001b[K     |███▉                            | 327 kB 29.6 MB/s eta 0:00:01\r\u001b[K     |████                            | 337 kB 29.6 MB/s eta 0:00:01\r\u001b[K     |████                            | 348 kB 29.6 MB/s eta 0:00:01\r\u001b[K     |████▏                           | 358 kB 29.6 MB/s eta 0:00:01\r\u001b[K     |████▎                           | 368 kB 29.6 MB/s eta 0:00:01\r\u001b[K     |████▍                           | 378 kB 29.6 MB/s eta 0:00:01\r\u001b[K     |████▌                           | 389 kB 29.6 MB/s eta 0:00:01\r\u001b[K     |████▋                           | 399 kB 29.6 MB/s eta 0:00:01\r\u001b[K     |████▉                           | 409 kB 29.6 MB/s eta 0:00:01\r\u001b[K     |█████                           | 419 kB 29.6 MB/s eta 0:00:01\r\u001b[K     |█████                           | 430 kB 29.6 MB/s eta 0:00:01\r\u001b[K     |█████▏                          | 440 kB 29.6 MB/s eta 0:00:01\r\u001b[K     |█████▎                          | 450 kB 29.6 MB/s eta 0:00:01\r\u001b[K     |█████▍                          | 460 kB 29.6 MB/s eta 0:00:01\r\u001b[K     |█████▌                          | 471 kB 29.6 MB/s eta 0:00:01\r\u001b[K     |█████▋                          | 481 kB 29.6 MB/s eta 0:00:01\r\u001b[K     |█████▊                          | 491 kB 29.6 MB/s eta 0:00:01\r\u001b[K     |█████▉                          | 501 kB 29.6 MB/s eta 0:00:01\r\u001b[K     |██████                          | 512 kB 29.6 MB/s eta 0:00:01\r\u001b[K     |██████                          | 522 kB 29.6 MB/s eta 0:00:01\r\u001b[K     |██████▏                         | 532 kB 29.6 MB/s eta 0:00:01\r\u001b[K     |██████▍                         | 542 kB 29.6 MB/s eta 0:00:01\r\u001b[K     |██████▌                         | 552 kB 29.6 MB/s eta 0:00:01\r\u001b[K     |██████▋                         | 563 kB 29.6 MB/s eta 0:00:01\r\u001b[K     |██████▊                         | 573 kB 29.6 MB/s eta 0:00:01\r\u001b[K     |██████▉                         | 583 kB 29.6 MB/s eta 0:00:01\r\u001b[K     |███████                         | 593 kB 29.6 MB/s eta 0:00:01\r\u001b[K     |███████                         | 604 kB 29.6 MB/s eta 0:00:01\r\u001b[K     |███████▏                        | 614 kB 29.6 MB/s eta 0:00:01\r\u001b[K     |███████▎                        | 624 kB 29.6 MB/s eta 0:00:01\r\u001b[K     |███████▍                        | 634 kB 29.6 MB/s eta 0:00:01\r\u001b[K     |███████▌                        | 645 kB 29.6 MB/s eta 0:00:01\r\u001b[K     |███████▋                        | 655 kB 29.6 MB/s eta 0:00:01\r\u001b[K     |███████▊                        | 665 kB 29.6 MB/s eta 0:00:01\r\u001b[K     |████████                        | 675 kB 29.6 MB/s eta 0:00:01\r\u001b[K     |████████                        | 686 kB 29.6 MB/s eta 0:00:01\r\u001b[K     |████████▏                       | 696 kB 29.6 MB/s eta 0:00:01\r\u001b[K     |████████▎                       | 706 kB 29.6 MB/s eta 0:00:01\r\u001b[K     |████████▍                       | 716 kB 29.6 MB/s eta 0:00:01\r\u001b[K     |████████▌                       | 727 kB 29.6 MB/s eta 0:00:01\r\u001b[K     |████████▋                       | 737 kB 29.6 MB/s eta 0:00:01\r\u001b[K     |████████▊                       | 747 kB 29.6 MB/s eta 0:00:01\r\u001b[K     |████████▉                       | 757 kB 29.6 MB/s eta 0:00:01\r\u001b[K     |█████████                       | 768 kB 29.6 MB/s eta 0:00:01\r\u001b[K     |█████████                       | 778 kB 29.6 MB/s eta 0:00:01\r\u001b[K     |█████████▏                      | 788 kB 29.6 MB/s eta 0:00:01\r\u001b[K     |█████████▎                      | 798 kB 29.6 MB/s eta 0:00:01\r\u001b[K     |█████████▌                      | 808 kB 29.6 MB/s eta 0:00:01\r\u001b[K     |█████████▋                      | 819 kB 29.6 MB/s eta 0:00:01\r\u001b[K     |█████████▊                      | 829 kB 29.6 MB/s eta 0:00:01\r\u001b[K     |█████████▉                      | 839 kB 29.6 MB/s eta 0:00:01\r\u001b[K     |██████████                      | 849 kB 29.6 MB/s eta 0:00:01\r\u001b[K     |██████████                      | 860 kB 29.6 MB/s eta 0:00:01\r\u001b[K     |██████████▏                     | 870 kB 29.6 MB/s eta 0:00:01\r\u001b[K     |██████████▎                     | 880 kB 29.6 MB/s eta 0:00:01\r\u001b[K     |██████████▍                     | 890 kB 29.6 MB/s eta 0:00:01\r\u001b[K     |██████████▌                     | 901 kB 29.6 MB/s eta 0:00:01\r\u001b[K     |██████████▋                     | 911 kB 29.6 MB/s eta 0:00:01\r\u001b[K     |██████████▊                     | 921 kB 29.6 MB/s eta 0:00:01\r\u001b[K     |██████████▉                     | 931 kB 29.6 MB/s eta 0:00:01\r\u001b[K     |███████████                     | 942 kB 29.6 MB/s eta 0:00:01\r\u001b[K     |███████████▏                    | 952 kB 29.6 MB/s eta 0:00:01\r\u001b[K     |███████████▎                    | 962 kB 29.6 MB/s eta 0:00:01\r\u001b[K     |███████████▍                    | 972 kB 29.6 MB/s eta 0:00:01\r\u001b[K     |███████████▌                    | 983 kB 29.6 MB/s eta 0:00:01\r\u001b[K     |███████████▋                    | 993 kB 29.6 MB/s eta 0:00:01\r\u001b[K     |███████████▊                    | 1.0 MB 29.6 MB/s eta 0:00:01\r\u001b[K     |███████████▉                    | 1.0 MB 29.6 MB/s eta 0:00:01\r\u001b[K     |████████████                    | 1.0 MB 29.6 MB/s eta 0:00:01\r\u001b[K     |████████████                    | 1.0 MB 29.6 MB/s eta 0:00:01\r\u001b[K     |████████████▏                   | 1.0 MB 29.6 MB/s eta 0:00:01\r\u001b[K     |████████████▎                   | 1.1 MB 29.6 MB/s eta 0:00:01\r\u001b[K     |████████████▍                   | 1.1 MB 29.6 MB/s eta 0:00:01\r\u001b[K     |████████████▋                   | 1.1 MB 29.6 MB/s eta 0:00:01\r\u001b[K     |████████████▊                   | 1.1 MB 29.6 MB/s eta 0:00:01\r\u001b[K     |████████████▉                   | 1.1 MB 29.6 MB/s eta 0:00:01\r\u001b[K     |█████████████                   | 1.1 MB 29.6 MB/s eta 0:00:01\r\u001b[K     |█████████████                   | 1.1 MB 29.6 MB/s eta 0:00:01\r\u001b[K     |█████████████▏                  | 1.1 MB 29.6 MB/s eta 0:00:01\r\u001b[K     |█████████████▎                  | 1.1 MB 29.6 MB/s eta 0:00:01\r\u001b[K     |█████████████▍                  | 1.1 MB 29.6 MB/s eta 0:00:01\r\u001b[K     |█████████████▌                  | 1.2 MB 29.6 MB/s eta 0:00:01\r\u001b[K     |█████████████▋                  | 1.2 MB 29.6 MB/s eta 0:00:01\r\u001b[K     |█████████████▊                  | 1.2 MB 29.6 MB/s eta 0:00:01\r\u001b[K     |█████████████▉                  | 1.2 MB 29.6 MB/s eta 0:00:01\r\u001b[K     |██████████████                  | 1.2 MB 29.6 MB/s eta 0:00:01\r\u001b[K     |██████████████                  | 1.2 MB 29.6 MB/s eta 0:00:01\r\u001b[K     |██████████████▎                 | 1.2 MB 29.6 MB/s eta 0:00:01\r\u001b[K     |██████████████▍                 | 1.2 MB 29.6 MB/s eta 0:00:01\r\u001b[K     |██████████████▌                 | 1.2 MB 29.6 MB/s eta 0:00:01\r\u001b[K     |██████████████▋                 | 1.2 MB 29.6 MB/s eta 0:00:01\r\u001b[K     |██████████████▊                 | 1.3 MB 29.6 MB/s eta 0:00:01\r\u001b[K     |██████████████▉                 | 1.3 MB 29.6 MB/s eta 0:00:01\r\u001b[K     |███████████████                 | 1.3 MB 29.6 MB/s eta 0:00:01\r\u001b[K     |███████████████                 | 1.3 MB 29.6 MB/s eta 0:00:01\r\u001b[K     |███████████████▏                | 1.3 MB 29.6 MB/s eta 0:00:01\r\u001b[K     |███████████████▎                | 1.3 MB 29.6 MB/s eta 0:00:01\r\u001b[K     |███████████████▍                | 1.3 MB 29.6 MB/s eta 0:00:01\r\u001b[K     |███████████████▌                | 1.3 MB 29.6 MB/s eta 0:00:01\r\u001b[K     |███████████████▋                | 1.3 MB 29.6 MB/s eta 0:00:01\r\u001b[K     |███████████████▉                | 1.4 MB 29.6 MB/s eta 0:00:01\r\u001b[K     |████████████████                | 1.4 MB 29.6 MB/s eta 0:00:01\r\u001b[K     |████████████████                | 1.4 MB 29.6 MB/s eta 0:00:01\r\u001b[K     |████████████████▏               | 1.4 MB 29.6 MB/s eta 0:00:01\r\u001b[K     |████████████████▎               | 1.4 MB 29.6 MB/s eta 0:00:01\r\u001b[K     |████████████████▍               | 1.4 MB 29.6 MB/s eta 0:00:01\r\u001b[K     |████████████████▌               | 1.4 MB 29.6 MB/s eta 0:00:01\r\u001b[K     |████████████████▋               | 1.4 MB 29.6 MB/s eta 0:00:01\r\u001b[K     |████████████████▊               | 1.4 MB 29.6 MB/s eta 0:00:01\r\u001b[K     |████████████████▉               | 1.4 MB 29.6 MB/s eta 0:00:01\r\u001b[K     |█████████████████               | 1.5 MB 29.6 MB/s eta 0:00:01\r\u001b[K     |█████████████████               | 1.5 MB 29.6 MB/s eta 0:00:01\r\u001b[K     |█████████████████▏              | 1.5 MB 29.6 MB/s eta 0:00:01\r\u001b[K     |█████████████████▍              | 1.5 MB 29.6 MB/s eta 0:00:01\r\u001b[K     |█████████████████▌              | 1.5 MB 29.6 MB/s eta 0:00:01\r\u001b[K     |█████████████████▋              | 1.5 MB 29.6 MB/s eta 0:00:01\r\u001b[K     |█████████████████▊              | 1.5 MB 29.6 MB/s eta 0:00:01\r\u001b[K     |█████████████████▉              | 1.5 MB 29.6 MB/s eta 0:00:01\r\u001b[K     |██████████████████              | 1.5 MB 29.6 MB/s eta 0:00:01\r\u001b[K     |██████████████████              | 1.5 MB 29.6 MB/s eta 0:00:01\r\u001b[K     |██████████████████▏             | 1.6 MB 29.6 MB/s eta 0:00:01\r\u001b[K     |██████████████████▎             | 1.6 MB 29.6 MB/s eta 0:00:01\r\u001b[K     |██████████████████▍             | 1.6 MB 29.6 MB/s eta 0:00:01\r\u001b[K     |██████████████████▌             | 1.6 MB 29.6 MB/s eta 0:00:01\r\u001b[K     |██████████████████▋             | 1.6 MB 29.6 MB/s eta 0:00:01\r\u001b[K     |██████████████████▊             | 1.6 MB 29.6 MB/s eta 0:00:01\r\u001b[K     |███████████████████             | 1.6 MB 29.6 MB/s eta 0:00:01\r\u001b[K     |███████████████████             | 1.6 MB 29.6 MB/s eta 0:00:01\r\u001b[K     |███████████████████▏            | 1.6 MB 29.6 MB/s eta 0:00:01\r\u001b[K     |███████████████████▎            | 1.6 MB 29.6 MB/s eta 0:00:01\r\u001b[K     |███████████████████▍            | 1.7 MB 29.6 MB/s eta 0:00:01\r\u001b[K     |███████████████████▌            | 1.7 MB 29.6 MB/s eta 0:00:01\r\u001b[K     |███████████████████▋            | 1.7 MB 29.6 MB/s eta 0:00:01\r\u001b[K     |███████████████████▊            | 1.7 MB 29.6 MB/s eta 0:00:01\r\u001b[K     |███████████████████▉            | 1.7 MB 29.6 MB/s eta 0:00:01\r\u001b[K     |████████████████████            | 1.7 MB 29.6 MB/s eta 0:00:01\r\u001b[K     |████████████████████            | 1.7 MB 29.6 MB/s eta 0:00:01\r\u001b[K     |████████████████████▏           | 1.7 MB 29.6 MB/s eta 0:00:01\r\u001b[K     |████████████████████▎           | 1.7 MB 29.6 MB/s eta 0:00:01\r\u001b[K     |████████████████████▌           | 1.8 MB 29.6 MB/s eta 0:00:01\r\u001b[K     |████████████████████▋           | 1.8 MB 29.6 MB/s eta 0:00:01\r\u001b[K     |████████████████████▊           | 1.8 MB 29.6 MB/s eta 0:00:01\r\u001b[K     |████████████████████▉           | 1.8 MB 29.6 MB/s eta 0:00:01\r\u001b[K     |█████████████████████           | 1.8 MB 29.6 MB/s eta 0:00:01\r\u001b[K     |█████████████████████           | 1.8 MB 29.6 MB/s eta 0:00:01\r\u001b[K     |█████████████████████▏          | 1.8 MB 29.6 MB/s eta 0:00:01\r\u001b[K     |█████████████████████▎          | 1.8 MB 29.6 MB/s eta 0:00:01\r\u001b[K     |█████████████████████▍          | 1.8 MB 29.6 MB/s eta 0:00:01\r\u001b[K     |█████████████████████▌          | 1.8 MB 29.6 MB/s eta 0:00:01\r\u001b[K     |█████████████████████▋          | 1.9 MB 29.6 MB/s eta 0:00:01\r\u001b[K     |█████████████████████▊          | 1.9 MB 29.6 MB/s eta 0:00:01\r\u001b[K     |█████████████████████▉          | 1.9 MB 29.6 MB/s eta 0:00:01\r\u001b[K     |██████████████████████          | 1.9 MB 29.6 MB/s eta 0:00:01\r\u001b[K     |██████████████████████▏         | 1.9 MB 29.6 MB/s eta 0:00:01\r\u001b[K     |██████████████████████▎         | 1.9 MB 29.6 MB/s eta 0:00:01\r\u001b[K     |██████████████████████▍         | 1.9 MB 29.6 MB/s eta 0:00:01\r\u001b[K     |██████████████████████▌         | 1.9 MB 29.6 MB/s eta 0:00:01\r\u001b[K     |██████████████████████▋         | 1.9 MB 29.6 MB/s eta 0:00:01\r\u001b[K     |██████████████████████▊         | 1.9 MB 29.6 MB/s eta 0:00:01\r\u001b[K     |██████████████████████▉         | 2.0 MB 29.6 MB/s eta 0:00:01\r\u001b[K     |███████████████████████         | 2.0 MB 29.6 MB/s eta 0:00:01\r\u001b[K     |███████████████████████         | 2.0 MB 29.6 MB/s eta 0:00:01\r\u001b[K     |███████████████████████▏        | 2.0 MB 29.6 MB/s eta 0:00:01\r\u001b[K     |███████████████████████▎        | 2.0 MB 29.6 MB/s eta 0:00:01\r\u001b[K     |███████████████████████▍        | 2.0 MB 29.6 MB/s eta 0:00:01\r\u001b[K     |███████████████████████▋        | 2.0 MB 29.6 MB/s eta 0:00:01\r\u001b[K     |███████████████████████▊        | 2.0 MB 29.6 MB/s eta 0:00:01\r\u001b[K     |███████████████████████▉        | 2.0 MB 29.6 MB/s eta 0:00:01\r\u001b[K     |████████████████████████        | 2.0 MB 29.6 MB/s eta 0:00:01\r\u001b[K     |████████████████████████        | 2.1 MB 29.6 MB/s eta 0:00:01\r\u001b[K     |████████████████████████▏       | 2.1 MB 29.6 MB/s eta 0:00:01\r\u001b[K     |████████████████████████▎       | 2.1 MB 29.6 MB/s eta 0:00:01\r\u001b[K     |████████████████████████▍       | 2.1 MB 29.6 MB/s eta 0:00:01\r\u001b[K     |████████████████████████▌       | 2.1 MB 29.6 MB/s eta 0:00:01\r\u001b[K     |████████████████████████▋       | 2.1 MB 29.6 MB/s eta 0:00:01\r\u001b[K     |████████████████████████▊       | 2.1 MB 29.6 MB/s eta 0:00:01\r\u001b[K     |████████████████████████▉       | 2.1 MB 29.6 MB/s eta 0:00:01\r\u001b[K     |█████████████████████████       | 2.1 MB 29.6 MB/s eta 0:00:01\r\u001b[K     |█████████████████████████▏      | 2.2 MB 29.6 MB/s eta 0:00:01\r\u001b[K     |█████████████████████████▎      | 2.2 MB 29.6 MB/s eta 0:00:01\r\u001b[K     |█████████████████████████▍      | 2.2 MB 29.6 MB/s eta 0:00:01\r\u001b[K     |█████████████████████████▌      | 2.2 MB 29.6 MB/s eta 0:00:01\r\u001b[K     |█████████████████████████▋      | 2.2 MB 29.6 MB/s eta 0:00:01\r\u001b[K     |█████████████████████████▊      | 2.2 MB 29.6 MB/s eta 0:00:01\r\u001b[K     |█████████████████████████▉      | 2.2 MB 29.6 MB/s eta 0:00:01\r\u001b[K     |██████████████████████████      | 2.2 MB 29.6 MB/s eta 0:00:01\r\u001b[K     |██████████████████████████      | 2.2 MB 29.6 MB/s eta 0:00:01\r\u001b[K     |██████████████████████████▏     | 2.2 MB 29.6 MB/s eta 0:00:01\r\u001b[K     |██████████████████████████▎     | 2.3 MB 29.6 MB/s eta 0:00:01\r\u001b[K     |██████████████████████████▍     | 2.3 MB 29.6 MB/s eta 0:00:01\r\u001b[K     |██████████████████████████▌     | 2.3 MB 29.6 MB/s eta 0:00:01\r\u001b[K     |██████████████████████████▋     | 2.3 MB 29.6 MB/s eta 0:00:01\r\u001b[K     |██████████████████████████▉     | 2.3 MB 29.6 MB/s eta 0:00:01\r\u001b[K     |███████████████████████████     | 2.3 MB 29.6 MB/s eta 0:00:01\r\u001b[K     |███████████████████████████     | 2.3 MB 29.6 MB/s eta 0:00:01\r\u001b[K     |███████████████████████████▏    | 2.3 MB 29.6 MB/s eta 0:00:01\r\u001b[K     |███████████████████████████▎    | 2.3 MB 29.6 MB/s eta 0:00:01\r\u001b[K     |███████████████████████████▍    | 2.3 MB 29.6 MB/s eta 0:00:01\r\u001b[K     |███████████████████████████▌    | 2.4 MB 29.6 MB/s eta 0:00:01\r\u001b[K     |███████████████████████████▋    | 2.4 MB 29.6 MB/s eta 0:00:01\r\u001b[K     |███████████████████████████▊    | 2.4 MB 29.6 MB/s eta 0:00:01\r\u001b[K     |███████████████████████████▉    | 2.4 MB 29.6 MB/s eta 0:00:01\r\u001b[K     |████████████████████████████    | 2.4 MB 29.6 MB/s eta 0:00:01\r\u001b[K     |████████████████████████████    | 2.4 MB 29.6 MB/s eta 0:00:01\r\u001b[K     |████████████████████████████▏   | 2.4 MB 29.6 MB/s eta 0:00:01\r\u001b[K     |████████████████████████████▍   | 2.4 MB 29.6 MB/s eta 0:00:01\r\u001b[K     |████████████████████████████▌   | 2.4 MB 29.6 MB/s eta 0:00:01\r\u001b[K     |████████████████████████████▋   | 2.4 MB 29.6 MB/s eta 0:00:01\r\u001b[K     |████████████████████████████▊   | 2.5 MB 29.6 MB/s eta 0:00:01\r\u001b[K     |████████████████████████████▉   | 2.5 MB 29.6 MB/s eta 0:00:01\r\u001b[K     |█████████████████████████████   | 2.5 MB 29.6 MB/s eta 0:00:01\r\u001b[K     |█████████████████████████████   | 2.5 MB 29.6 MB/s eta 0:00:01\r\u001b[K     |█████████████████████████████▏  | 2.5 MB 29.6 MB/s eta 0:00:01\r\u001b[K     |█████████████████████████████▎  | 2.5 MB 29.6 MB/s eta 0:00:01\r\u001b[K     |█████████████████████████████▍  | 2.5 MB 29.6 MB/s eta 0:00:01\r\u001b[K     |█████████████████████████████▌  | 2.5 MB 29.6 MB/s eta 0:00:01\r\u001b[K     |█████████████████████████████▋  | 2.5 MB 29.6 MB/s eta 0:00:01\r\u001b[K     |█████████████████████████████▊  | 2.5 MB 29.6 MB/s eta 0:00:01\r\u001b[K     |██████████████████████████████  | 2.6 MB 29.6 MB/s eta 0:00:01\r\u001b[K     |██████████████████████████████  | 2.6 MB 29.6 MB/s eta 0:00:01\r\u001b[K     |██████████████████████████████▏ | 2.6 MB 29.6 MB/s eta 0:00:01\r\u001b[K     |██████████████████████████████▎ | 2.6 MB 29.6 MB/s eta 0:00:01\r\u001b[K     |██████████████████████████████▍ | 2.6 MB 29.6 MB/s eta 0:00:01\r\u001b[K     |██████████████████████████████▌ | 2.6 MB 29.6 MB/s eta 0:00:01\r\u001b[K     |██████████████████████████████▋ | 2.6 MB 29.6 MB/s eta 0:00:01\r\u001b[K     |██████████████████████████████▊ | 2.6 MB 29.6 MB/s eta 0:00:01\r\u001b[K     |██████████████████████████████▉ | 2.6 MB 29.6 MB/s eta 0:00:01\r\u001b[K     |███████████████████████████████ | 2.7 MB 29.6 MB/s eta 0:00:01\r\u001b[K     |███████████████████████████████ | 2.7 MB 29.6 MB/s eta 0:00:01\r\u001b[K     |███████████████████████████████▏| 2.7 MB 29.6 MB/s eta 0:00:01\r\u001b[K     |███████████████████████████████▎| 2.7 MB 29.6 MB/s eta 0:00:01\r\u001b[K     |███████████████████████████████▌| 2.7 MB 29.6 MB/s eta 0:00:01\r\u001b[K     |███████████████████████████████▋| 2.7 MB 29.6 MB/s eta 0:00:01\r\u001b[K     |███████████████████████████████▊| 2.7 MB 29.6 MB/s eta 0:00:01\r\u001b[K     |███████████████████████████████▉| 2.7 MB 29.6 MB/s eta 0:00:01\r\u001b[K     |████████████████████████████████| 2.7 MB 29.6 MB/s eta 0:00:01\r\u001b[K     |████████████████████████████████| 2.7 MB 29.6 MB/s \n",
            "\u001b[?25hInstalling collected packages: pyspellchecker\n",
            "Successfully installed pyspellchecker-0.6.3\n"
          ]
        }
      ]
    },
    {
      "cell_type": "code",
      "source": [
        "from spellchecker import SpellChecker\n",
        "spell = SpellChecker()\n",
        "def correct_spellings(comments):\n",
        "    corrected_comments = []\n",
        "    misspelled_words = spell.unknown(comments.split())\n",
        "    for word in comments.split():\n",
        "        if word in misspelled_words:\n",
        "            corrected_comments.append(spell.correction(word))\n",
        "        else:\n",
        "            corrected_comments.append(word)\n",
        "    return \" \".join(corrected_comments)\n",
        "\n",
        "    data[\"comments\"] = data[\"comments\"].apply(lambda comments: correct_spellings(comments))\n",
        "data.head()"
      ],
      "metadata": {
        "colab": {
          "base_uri": "https://localhost:8080/",
          "height": 206
        },
        "id": "C5-P0aPXR2Lx",
        "outputId": "efe9dacd-d3b5-4816-e814-3200a8446000"
      },
      "execution_count": null,
      "outputs": [
        {
          "output_type": "execute_result",
          "data": {
            "text/html": [
              "\n",
              "  <div id=\"df-ac2cfd94-4d6d-490f-9180-25f328564f68\">\n",
              "    <div class=\"colab-df-container\">\n",
              "      <div>\n",
              "<style scoped>\n",
              "    .dataframe tbody tr th:only-of-type {\n",
              "        vertical-align: middle;\n",
              "    }\n",
              "\n",
              "    .dataframe tbody tr th {\n",
              "        vertical-align: top;\n",
              "    }\n",
              "\n",
              "    .dataframe thead th {\n",
              "        text-align: right;\n",
              "    }\n",
              "</style>\n",
              "<table border=\"1\" class=\"dataframe\">\n",
              "  <thead>\n",
              "    <tr style=\"text-align: right;\">\n",
              "      <th></th>\n",
              "      <th>comments</th>\n",
              "    </tr>\n",
              "  </thead>\n",
              "  <tbody>\n",
              "    <tr>\n",
              "      <th>0</th>\n",
              "      <td>icici get strong fundament signal beat impact ...</td>\n",
              "    </tr>\n",
              "    <tr>\n",
              "      <th>1</th>\n",
              "      <td>risk toler level risk investor will take invest</td>\n",
              "    </tr>\n",
              "    <tr>\n",
              "      <th>2</th>\n",
              "      <td>investor often enhanc profit compound reinvest...</td>\n",
              "    </tr>\n",
              "    <tr>\n",
              "      <th>3</th>\n",
              "      <td>anyon give updat rate stock current hold</td>\n",
              "    </tr>\n",
              "    <tr>\n",
              "      <th>4</th>\n",
              "      <td>great jackpot deal u2026u2026u2026just say hi ...</td>\n",
              "    </tr>\n",
              "  </tbody>\n",
              "</table>\n",
              "</div>\n",
              "      <button class=\"colab-df-convert\" onclick=\"convertToInteractive('df-ac2cfd94-4d6d-490f-9180-25f328564f68')\"\n",
              "              title=\"Convert this dataframe to an interactive table.\"\n",
              "              style=\"display:none;\">\n",
              "        \n",
              "  <svg xmlns=\"http://www.w3.org/2000/svg\" height=\"24px\"viewBox=\"0 0 24 24\"\n",
              "       width=\"24px\">\n",
              "    <path d=\"M0 0h24v24H0V0z\" fill=\"none\"/>\n",
              "    <path d=\"M18.56 5.44l.94 2.06.94-2.06 2.06-.94-2.06-.94-.94-2.06-.94 2.06-2.06.94zm-11 1L8.5 8.5l.94-2.06 2.06-.94-2.06-.94L8.5 2.5l-.94 2.06-2.06.94zm10 10l.94 2.06.94-2.06 2.06-.94-2.06-.94-.94-2.06-.94 2.06-2.06.94z\"/><path d=\"M17.41 7.96l-1.37-1.37c-.4-.4-.92-.59-1.43-.59-.52 0-1.04.2-1.43.59L10.3 9.45l-7.72 7.72c-.78.78-.78 2.05 0 2.83L4 21.41c.39.39.9.59 1.41.59.51 0 1.02-.2 1.41-.59l7.78-7.78 2.81-2.81c.8-.78.8-2.07 0-2.86zM5.41 20L4 18.59l7.72-7.72 1.47 1.35L5.41 20z\"/>\n",
              "  </svg>\n",
              "      </button>\n",
              "      \n",
              "  <style>\n",
              "    .colab-df-container {\n",
              "      display:flex;\n",
              "      flex-wrap:wrap;\n",
              "      gap: 12px;\n",
              "    }\n",
              "\n",
              "    .colab-df-convert {\n",
              "      background-color: #E8F0FE;\n",
              "      border: none;\n",
              "      border-radius: 50%;\n",
              "      cursor: pointer;\n",
              "      display: none;\n",
              "      fill: #1967D2;\n",
              "      height: 32px;\n",
              "      padding: 0 0 0 0;\n",
              "      width: 32px;\n",
              "    }\n",
              "\n",
              "    .colab-df-convert:hover {\n",
              "      background-color: #E2EBFA;\n",
              "      box-shadow: 0px 1px 2px rgba(60, 64, 67, 0.3), 0px 1px 3px 1px rgba(60, 64, 67, 0.15);\n",
              "      fill: #174EA6;\n",
              "    }\n",
              "\n",
              "    [theme=dark] .colab-df-convert {\n",
              "      background-color: #3B4455;\n",
              "      fill: #D2E3FC;\n",
              "    }\n",
              "\n",
              "    [theme=dark] .colab-df-convert:hover {\n",
              "      background-color: #434B5C;\n",
              "      box-shadow: 0px 1px 3px 1px rgba(0, 0, 0, 0.15);\n",
              "      filter: drop-shadow(0px 1px 2px rgba(0, 0, 0, 0.3));\n",
              "      fill: #FFFFFF;\n",
              "    }\n",
              "  </style>\n",
              "\n",
              "      <script>\n",
              "        const buttonEl =\n",
              "          document.querySelector('#df-ac2cfd94-4d6d-490f-9180-25f328564f68 button.colab-df-convert');\n",
              "        buttonEl.style.display =\n",
              "          google.colab.kernel.accessAllowed ? 'block' : 'none';\n",
              "\n",
              "        async function convertToInteractive(key) {\n",
              "          const element = document.querySelector('#df-ac2cfd94-4d6d-490f-9180-25f328564f68');\n",
              "          const dataTable =\n",
              "            await google.colab.kernel.invokeFunction('convertToInteractive',\n",
              "                                                     [key], {});\n",
              "          if (!dataTable) return;\n",
              "\n",
              "          const docLinkHtml = 'Like what you see? Visit the ' +\n",
              "            '<a target=\"_blank\" href=https://colab.research.google.com/notebooks/data_table.ipynb>data table notebook</a>'\n",
              "            + ' to learn more about interactive tables.';\n",
              "          element.innerHTML = '';\n",
              "          dataTable['output_type'] = 'display_data';\n",
              "          await google.colab.output.renderOutput(dataTable, element);\n",
              "          const docLink = document.createElement('div');\n",
              "          docLink.innerHTML = docLinkHtml;\n",
              "          element.appendChild(docLink);\n",
              "        }\n",
              "      </script>\n",
              "    </div>\n",
              "  </div>\n",
              "  "
            ],
            "text/plain": [
              "                                            comments\n",
              "0  icici get strong fundament signal beat impact ...\n",
              "1    risk toler level risk investor will take invest\n",
              "2  investor often enhanc profit compound reinvest...\n",
              "3           anyon give updat rate stock current hold\n",
              "4  great jackpot deal u2026u2026u2026just say hi ..."
            ]
          },
          "metadata": {},
          "execution_count": 45
        }
      ]
    },
    {
      "cell_type": "code",
      "source": [
        "l = data['comments'].values.tolist()\n",
        "l"
      ],
      "metadata": {
        "colab": {
          "base_uri": "https://localhost:8080/"
        },
        "id": "PHEDET0bT8n4",
        "outputId": "96e94db5-2442-41bb-cf39-bef8f96814d8"
      },
      "execution_count": null,
      "outputs": [
        {
          "output_type": "execute_result",
          "data": {
            "text/plain": [
              "['icici get strong fundament signal beat impact current set hdfc know exact target valu vgdgjmayk',\n",
              " 'risk toler level risk investor will take invest',\n",
              " 'investor often enhanc profit compound reinvest profit dividend addit share stock',\n",
              " 'anyon give updat rate stock current hold',\n",
              " 'great jackpot deal u2026u2026u2026just say hi 826597877five',\n",
              " 'icici bank bullish break resist level know exact entri exit level info vgdgjmayk',\n",
              " 'tell grm profitjunct mm form bearish pattern buy abv ichimoku resist 850 tgt 900 soon share freee intraday caalll telle grm profitjunct',\n",
              " 'icici bank bullish break resist level know exact entri exit level info vgdgjmayk',\n",
              " 'icici get strong fundament signal beat impact current set hdfc know exact target valu vgdgjmayk',\n",
              " 'small black crow alert doubl top pattern decid',\n",
              " 'icici bank bullish break resist level know exact entri exit level info vgdgjmayk',\n",
              " 'icici get strong fundament signal beat impact current set hdfc know exact target valu vgdgjmayk',\n",
              " 'icici bank bullish break resist level know exact entri exit level info vgdgjmayk',\n",
              " 'icici get strong fundament signal beat impact current set hdfc know exact target valu vgdgjmayk',\n",
              " 'icici bank bullish break resist level know exact entri exit level info vgdgjmayk',\n",
              " 'icici bank bullish break resist level know exact entri exit level info vgdgjmayk',\n",
              " 'zeel cmp 350 tomorrow morn come 360370 anyhelportip wtzp 73oo 731144',\n",
              " 'icici bank bullish break resist level know exact entri exit level info vgdgjmayk',\n",
              " 'stock go quickli level target rs860',\n",
              " 'buy icici bank near 820 morn tgt 840855 tellegraamktrad 2',\n",
              " 'strong level good result consolid last week strongli recommend stock buy detail queen futur 2',\n",
              " 'icici bank bullish break resist level know exact entri exit level info vgdgjmayk',\n",
              " 'tell grm profitjunct upl near recent swing high act support buy fibonacci resist 700 739 soon share freee intraday caalll telle grm profitjunct',\n",
              " '2400tell grm profitjunct zeel near support level 333 make littl weak buy abv next resist 342 next tgt 365 soon give freee intrdi sugggest telle grm profitjunct',\n",
              " 'long term investor book profit icici bank avoid fresh entri life time high',\n",
              " 'icici bank go touch 840 860 reason mention',\n",
              " 'whatev result fii mutual fund take profit bank share',\n",
              " 'motherson sumi low circuit cautiou market take profit alwyay',\n",
              " 'sell icici bank target 810 stop loss 826visit goyaltip',\n",
              " 'overcom fear loss incur return bnfsat891c',\n",
              " 'new era crypto trade becom familiar everyon howev right corner still right place bnfsat891c',\n",
              " 'icici get strong fundament signal beat impact current set hdfc know exact target valu vgdgjmayk',\n",
              " 'icici bank bullish break resist level know exact entri exit level info vgdgjmayk',\n",
              " 'icici get strong fundament signal beat impact current set hdfc know exact target valu vgdgjmayk',\n",
              " 'icici bank bullish break resist level know exact entri exit level info vgdgjmayk',\n",
              " 'icici get strong fundament signal beat impact current set hdfc know exact target valu vgdgjmayk',\n",
              " 'tomorrow readi oper strong upper circuit readi retail buy opportunitybnfsat891c',\n",
              " 'overcom fear loss incur return bnfsat891c',\n",
              " 'icici get strong fundament signal beat impact current set hdfc know exact target valu vgdgjmayk',\n",
              " 'icici bank bullish break resist level know exact entri exit level info vgdgjmayk']"
            ]
          },
          "metadata": {},
          "execution_count": 46
        }
      ]
    },
    {
      "cell_type": "code",
      "source": [
        "# using list comprehension + split()\n",
        "# Tokenizing strings in list of strings\n",
        "tokens = [sub.split() for sub in l]\n",
        "str(tokens)"
      ],
      "metadata": {
        "colab": {
          "base_uri": "https://localhost:8080/",
          "height": 127
        },
        "id": "gB9giWlKCodJ",
        "outputId": "d57bce59-cb6f-40aa-9bc9-30032b027356"
      },
      "execution_count": null,
      "outputs": [
        {
          "output_type": "execute_result",
          "data": {
            "application/vnd.google.colaboratory.intrinsic+json": {
              "type": "string"
            },
            "text/plain": [
              "\"[['icici', 'get', 'strong', 'fundament', 'signal', 'beat', 'impact', 'current', 'set', 'hdfc', 'know', 'exact', 'target', 'valu', 'vgdgjmayk'], ['risk', 'toler', 'level', 'risk', 'investor', 'will', 'take', 'invest'], ['investor', 'often', 'enhanc', 'profit', 'compound', 'reinvest', 'profit', 'dividend', 'addit', 'share', 'stock'], ['anyon', 'give', 'updat', 'rate', 'stock', 'current', 'hold'], ['great', 'jackpot', 'deal', 'u2026u2026u2026just', 'say', 'hi', '826597877five'], ['icici', 'bank', 'bullish', 'break', 'resist', 'level', 'know', 'exact', 'entri', 'exit', 'level', 'info', 'vgdgjmayk'], ['tell', 'grm', 'profitjunct', 'mm', 'form', 'bearish', 'pattern', 'buy', 'abv', 'ichimoku', 'resist', '850', 'tgt', '900', 'soon', 'share', 'freee', 'intraday', 'caalll', 'telle', 'grm', 'profitjunct'], ['icici', 'bank', 'bullish', 'break', 'resist', 'level', 'know', 'exact', 'entri', 'exit', 'level', 'info', 'vgdgjmayk'], ['icici', 'get', 'strong', 'fundament', 'signal', 'beat', 'impact', 'current', 'set', 'hdfc', 'know', 'exact', 'target', 'valu', 'vgdgjmayk'], ['small', 'black', 'crow', 'alert', 'doubl', 'top', 'pattern', 'decid'], ['icici', 'bank', 'bullish', 'break', 'resist', 'level', 'know', 'exact', 'entri', 'exit', 'level', 'info', 'vgdgjmayk'], ['icici', 'get', 'strong', 'fundament', 'signal', 'beat', 'impact', 'current', 'set', 'hdfc', 'know', 'exact', 'target', 'valu', 'vgdgjmayk'], ['icici', 'bank', 'bullish', 'break', 'resist', 'level', 'know', 'exact', 'entri', 'exit', 'level', 'info', 'vgdgjmayk'], ['icici', 'get', 'strong', 'fundament', 'signal', 'beat', 'impact', 'current', 'set', 'hdfc', 'know', 'exact', 'target', 'valu', 'vgdgjmayk'], ['icici', 'bank', 'bullish', 'break', 'resist', 'level', 'know', 'exact', 'entri', 'exit', 'level', 'info', 'vgdgjmayk'], ['icici', 'bank', 'bullish', 'break', 'resist', 'level', 'know', 'exact', 'entri', 'exit', 'level', 'info', 'vgdgjmayk'], ['zeel', 'cmp', '350', 'tomorrow', 'morn', 'come', '360370', 'anyhelportip', 'wtzp', '73oo', '731144'], ['icici', 'bank', 'bullish', 'break', 'resist', 'level', 'know', 'exact', 'entri', 'exit', 'level', 'info', 'vgdgjmayk'], ['stock', 'go', 'quickli', 'level', 'target', 'rs860'], ['buy', 'icici', 'bank', 'near', '820', 'morn', 'tgt', '840855', 'tellegraamktrad', '2'], ['strong', 'level', 'good', 'result', 'consolid', 'last', 'week', 'strongli', 'recommend', 'stock', 'buy', 'detail', 'queen', 'futur', '2'], ['icici', 'bank', 'bullish', 'break', 'resist', 'level', 'know', 'exact', 'entri', 'exit', 'level', 'info', 'vgdgjmayk'], ['tell', 'grm', 'profitjunct', 'upl', 'near', 'recent', 'swing', 'high', 'act', 'support', 'buy', 'fibonacci', 'resist', '700', '739', 'soon', 'share', 'freee', 'intraday', 'caalll', 'telle', 'grm', 'profitjunct'], ['2400tell', 'grm', 'profitjunct', 'zeel', 'near', 'support', 'level', '333', 'make', 'littl', 'weak', 'buy', 'abv', 'next', 'resist', '342', 'next', 'tgt', '365', 'soon', 'give', 'freee', 'intrdi', 'sugggest', 'telle', 'grm', 'profitjunct'], ['long', 'term', 'investor', 'book', 'profit', 'icici', 'bank', 'avoid', 'fresh', 'entri', 'life', 'time', 'high'], ['icici', 'bank', 'go', 'touch', '840', '860', 'reason', 'mention'], ['whatev', 'result', 'fii', 'mutual', 'fund', 'take', 'profit', 'bank', 'share'], ['motherson', 'sumi', 'low', 'circuit', 'cautiou', 'market', 'take', 'profit', 'alwyay'], ['sell', 'icici', 'bank', 'target', '810', 'stop', 'loss', '826visit', 'goyaltip'], ['overcom', 'fear', 'loss', 'incur', 'return', 'bnfsat891c'], ['new', 'era', 'crypto', 'trade', 'becom', 'familiar', 'everyon', 'howev', 'right', 'corner', 'still', 'right', 'place', 'bnfsat891c'], ['icici', 'get', 'strong', 'fundament', 'signal', 'beat', 'impact', 'current', 'set', 'hdfc', 'know', 'exact', 'target', 'valu', 'vgdgjmayk'], ['icici', 'bank', 'bullish', 'break', 'resist', 'level', 'know', 'exact', 'entri', 'exit', 'level', 'info', 'vgdgjmayk'], ['icici', 'get', 'strong', 'fundament', 'signal', 'beat', 'impact', 'current', 'set', 'hdfc', 'know', 'exact', 'target', 'valu', 'vgdgjmayk'], ['icici', 'bank', 'bullish', 'break', 'resist', 'level', 'know', 'exact', 'entri', 'exit', 'level', 'info', 'vgdgjmayk'], ['icici', 'get', 'strong', 'fundament', 'signal', 'beat', 'impact', 'current', 'set', 'hdfc', 'know', 'exact', 'target', 'valu', 'vgdgjmayk'], ['tomorrow', 'readi', 'oper', 'strong', 'upper', 'circuit', 'readi', 'retail', 'buy', 'opportunitybnfsat891c'], ['overcom', 'fear', 'loss', 'incur', 'return', 'bnfsat891c'], ['icici', 'get', 'strong', 'fundament', 'signal', 'beat', 'impact', 'current', 'set', 'hdfc', 'know', 'exact', 'target', 'valu', 'vgdgjmayk'], ['icici', 'bank', 'bullish', 'break', 'resist', 'level', 'know', 'exact', 'entri', 'exit', 'level', 'info', 'vgdgjmayk']]\""
            ]
          },
          "metadata": {},
          "execution_count": 47
        }
      ]
    },
    {
      "cell_type": "code",
      "source": [
        "tokens[3]"
      ],
      "metadata": {
        "colab": {
          "base_uri": "https://localhost:8080/"
        },
        "id": "OivsqTTIZAKM",
        "outputId": "763b4489-d1f8-4e16-8591-7a59630708d7"
      },
      "execution_count": null,
      "outputs": [
        {
          "output_type": "execute_result",
          "data": {
            "text/plain": [
              "['anyon', 'give', 'updat', 'rate', 'stock', 'current', 'hold']"
            ]
          },
          "metadata": {},
          "execution_count": 49
        }
      ]
    },
    {
      "cell_type": "code",
      "source": [
        ""
      ],
      "metadata": {
        "id": "ZYa_3a2odZ4O"
      },
      "execution_count": null,
      "outputs": []
    }
  ]
}